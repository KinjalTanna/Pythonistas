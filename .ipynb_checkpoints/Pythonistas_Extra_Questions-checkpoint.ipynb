{
 "cells": [
  {
   "cell_type": "code",
   "execution_count": 13,
   "id": "10b6f57f",
   "metadata": {},
   "outputs": [
    {
     "ename": "ModuleNotFoundError",
     "evalue": "No module named 'plotly'",
     "output_type": "error",
     "traceback": [
      "\u001b[1;31m---------------------------------------------------------------------------\u001b[0m",
      "\u001b[1;31mModuleNotFoundError\u001b[0m                       Traceback (most recent call last)",
      "\u001b[1;32m~\\AppData\\Local\\Temp/ipykernel_20380/122878515.py\u001b[0m in \u001b[0;36m<module>\u001b[1;34m\u001b[0m\n\u001b[0;32m      8\u001b[0m \u001b[1;33m\u001b[0m\u001b[0m\n\u001b[0;32m      9\u001b[0m \u001b[0mwarnings\u001b[0m\u001b[1;33m.\u001b[0m\u001b[0mfilterwarnings\u001b[0m\u001b[1;33m(\u001b[0m\u001b[1;34m\"ignore\"\u001b[0m\u001b[1;33m)\u001b[0m\u001b[1;33m\u001b[0m\u001b[1;33m\u001b[0m\u001b[0m\n\u001b[1;32m---> 10\u001b[1;33m \u001b[1;32mimport\u001b[0m \u001b[0mplotly\u001b[0m\u001b[1;33m.\u001b[0m\u001b[0mexpress\u001b[0m \u001b[1;32mas\u001b[0m \u001b[0mpx\u001b[0m\u001b[1;33m\u001b[0m\u001b[1;33m\u001b[0m\u001b[0m\n\u001b[0m\u001b[0;32m     11\u001b[0m \u001b[1;33m\u001b[0m\u001b[0m\n",
      "\u001b[1;31mModuleNotFoundError\u001b[0m: No module named 'plotly'"
     ]
    }
   ],
   "source": [
    "#importing libraries\n",
    "import pandas as pd\n",
    "import numpy as np\n",
    "import matplotlib.pyplot as plt\n",
    "import seaborn as sns\n",
    "from datetime import datetime, date\n",
    "import warnings\n",
    "\n",
    "warnings.filterwarnings(\"ignore\")\n",
    "\n",
    "\n"
   ]
  },
  {
   "cell_type": "code",
   "execution_count": 3,
   "id": "e7ddca05",
   "metadata": {},
   "outputs": [],
   "source": [
    "Patients_df=pd.read_excel(\"HospitalDatabase .xlsx\",\"Patients\")"
   ]
  },
  {
   "cell_type": "code",
   "execution_count": 4,
   "id": "81e8f599",
   "metadata": {},
   "outputs": [],
   "source": [
    "Discharges_df=pd.read_excel(\"HospitalDatabase .xlsx\",\"Discharges\")"
   ]
  },
  {
   "cell_type": "code",
   "execution_count": 5,
   "id": "292e4618",
   "metadata": {},
   "outputs": [],
   "source": [
    "EDVisits = pd.read_excel(\"HospitalDatabase .xlsx\", \"EDVisits\")"
   ]
  },
  {
   "cell_type": "code",
   "execution_count": 6,
   "id": "90e80a2b",
   "metadata": {},
   "outputs": [],
   "source": [
    "AmbulatoryVisits_df = pd.read_excel(\"HospitalDatabase .xlsx\", \"AmbulatoryVisits\")"
   ]
  },
  {
   "cell_type": "code",
   "execution_count": 7,
   "id": "63271580",
   "metadata": {},
   "outputs": [],
   "source": [
    "Providers_df = pd.read_excel(\"HospitalDatabase .xlsx\", \"Providers\")"
   ]
  },
  {
   "cell_type": "code",
   "execution_count": 8,
   "id": "589196ca",
   "metadata": {},
   "outputs": [],
   "source": [
    "EDUnique_df = pd.read_excel(\"HospitalDatabase .xlsx\", \"EDUnique\")"
   ]
  },
  {
   "cell_type": "code",
   "execution_count": 9,
   "id": "1647ea37",
   "metadata": {},
   "outputs": [],
   "source": [
    "ReAdmissionRegistry_df = pd.read_excel(\"HospitalDatabase .xlsx\", 'ReAdmissionRegistry')"
   ]
  },
  {
   "cell_type": "markdown",
   "id": "74f72bc4",
   "metadata": {},
   "source": [
    "### Q1.Loop through rows of a data frame to find the last names of patient."
   ]
  },
  {
   "cell_type": "code",
   "execution_count": 10,
   "id": "044cdcd4",
   "metadata": {},
   "outputs": [
    {
     "name": "stdout",
     "output_type": "stream",
     "text": [
      "Texas\n",
      "Steuhlmeyer\n"
     ]
    }
   ],
   "source": [
    "# Loop through rows of a data frame to find the last names of patient.\n",
    "for (index, row) in Patients_df.iterrows():\n",
    "    if row.FirstName == \"Carmine\":\n",
    "        print(row.LastName)\n"
   ]
  },
  {
   "cell_type": "markdown",
   "id": "a926f611",
   "metadata": {},
   "source": [
    "### Q2. Grouped Bar Chart : To find the number of patients discharged by Primary diagnosis\n"
   ]
  },
  {
   "cell_type": "code",
   "execution_count": 11,
   "id": "6a19301d",
   "metadata": {},
   "outputs": [
    {
     "data": {
      "text/html": [
       "<div>\n",
       "<style scoped>\n",
       "    .dataframe tbody tr th:only-of-type {\n",
       "        vertical-align: middle;\n",
       "    }\n",
       "\n",
       "    .dataframe tbody tr th {\n",
       "        vertical-align: top;\n",
       "    }\n",
       "\n",
       "    .dataframe thead th {\n",
       "        text-align: right;\n",
       "    }\n",
       "</style>\n",
       "<table border=\"1\" class=\"dataframe\">\n",
       "  <thead>\n",
       "    <tr style=\"text-align: right;\">\n",
       "      <th></th>\n",
       "      <th>PrimaryDiagnosis</th>\n",
       "      <th>DischargeDisposition</th>\n",
       "      <th>PatientID</th>\n",
       "    </tr>\n",
       "  </thead>\n",
       "  <tbody>\n",
       "    <tr>\n",
       "      <th>0</th>\n",
       "      <td>AMI</td>\n",
       "      <td>Expired</td>\n",
       "      <td>6</td>\n",
       "    </tr>\n",
       "    <tr>\n",
       "      <th>1</th>\n",
       "      <td>AMI</td>\n",
       "      <td>Home</td>\n",
       "      <td>42</td>\n",
       "    </tr>\n",
       "    <tr>\n",
       "      <th>2</th>\n",
       "      <td>Afib</td>\n",
       "      <td>Expired</td>\n",
       "      <td>4</td>\n",
       "    </tr>\n",
       "    <tr>\n",
       "      <th>3</th>\n",
       "      <td>Afib</td>\n",
       "      <td>Home</td>\n",
       "      <td>6</td>\n",
       "    </tr>\n",
       "    <tr>\n",
       "      <th>4</th>\n",
       "      <td>Afib</td>\n",
       "      <td>Transfer</td>\n",
       "      <td>1</td>\n",
       "    </tr>\n",
       "  </tbody>\n",
       "</table>\n",
       "</div>"
      ],
      "text/plain": [
       "  PrimaryDiagnosis DischargeDisposition  PatientID\n",
       "0              AMI              Expired          6\n",
       "1              AMI                 Home         42\n",
       "2             Afib              Expired          4\n",
       "3             Afib                 Home          6\n",
       "4             Afib             Transfer          1"
      ]
     },
     "execution_count": 11,
     "metadata": {},
     "output_type": "execute_result"
    }
   ],
   "source": [
    "Exp_home_tra = Discharges_df.groupby([\"PrimaryDiagnosis\", \"DischargeDisposition\"], as_index=False).agg({'PatientID': pd.Series.count})\n",
    "Exp_home_tra.head()\n"
   ]
  },
  {
   "cell_type": "code",
   "execution_count": 18,
   "id": "ebd951c3",
   "metadata": {},
   "outputs": [
    {
     "ename": "ModuleNotFoundError",
     "evalue": "No module named 'plotly'",
     "output_type": "error",
     "traceback": [
      "\u001b[1;31m---------------------------------------------------------------------------\u001b[0m",
      "\u001b[1;31mModuleNotFoundError\u001b[0m                       Traceback (most recent call last)",
      "\u001b[1;32m~\\AppData\\Local\\Temp/ipykernel_20380/3008291690.py\u001b[0m in \u001b[0;36m<module>\u001b[1;34m\u001b[0m\n\u001b[1;32m----> 1\u001b[1;33m \u001b[1;32mimport\u001b[0m \u001b[0mplotly\u001b[0m\u001b[1;33m.\u001b[0m\u001b[0mexpress\u001b[0m \u001b[1;32mas\u001b[0m \u001b[0mpx\u001b[0m\u001b[1;33m\u001b[0m\u001b[1;33m\u001b[0m\u001b[0m\n\u001b[0m\u001b[0;32m      2\u001b[0m g_bar = px.bar(Exp_home_tra,\n\u001b[0;32m      3\u001b[0m                \u001b[0mx\u001b[0m\u001b[1;33m=\u001b[0m\u001b[1;34m'PrimaryDiagnosis'\u001b[0m\u001b[1;33m,\u001b[0m\u001b[1;33m\u001b[0m\u001b[1;33m\u001b[0m\u001b[0m\n\u001b[0;32m      4\u001b[0m                \u001b[0my\u001b[0m\u001b[1;33m=\u001b[0m\u001b[1;34m'PatientID'\u001b[0m\u001b[1;33m,\u001b[0m\u001b[1;33m\u001b[0m\u001b[1;33m\u001b[0m\u001b[0m\n\u001b[0;32m      5\u001b[0m                \u001b[0mtitle\u001b[0m\u001b[1;33m=\u001b[0m\u001b[1;34m'DischargeDisposition by PrimaryDiagnosis'\u001b[0m\u001b[1;33m,\u001b[0m\u001b[1;33m\u001b[0m\u001b[1;33m\u001b[0m\u001b[0m\n",
      "\u001b[1;31mModuleNotFoundError\u001b[0m: No module named 'plotly'"
     ]
    }
   ],
   "source": [
    "import plotly.express as px\n",
    "g_bar = px.bar(Exp_home_tra,\n",
    "               x='PrimaryDiagnosis',\n",
    "               y='PatientID',\n",
    "               title='DischargeDisposition by PrimaryDiagnosis',\n",
    "               color='DischargeDisposition',\n",
    "               barmode='group')\n",
    " \n",
    "g_bar.update_layout(xaxis_title='PrimaryDiagnosis',\n",
    "                    yaxis_title='Number of Patients',\n",
    "                    xaxis={'categoryorder':'total descending'},\n",
    "                    yaxis=dict(type='log'))\n",
    " \n",
    "g_bar.show()\n",
    "\n"
   ]
  },
  {
   "cell_type": "markdown",
   "id": "5ac5a44b",
   "metadata": {},
   "source": [
    "### Q3 . Applying indicator flag in merging the dataframes.\n"
   ]
  },
  {
   "cell_type": "code",
   "execution_count": 14,
   "id": "817e143f",
   "metadata": {},
   "outputs": [
    {
     "data": {
      "text/html": [
       "<div>\n",
       "<style scoped>\n",
       "    .dataframe tbody tr th:only-of-type {\n",
       "        vertical-align: middle;\n",
       "    }\n",
       "\n",
       "    .dataframe tbody tr th {\n",
       "        vertical-align: top;\n",
       "    }\n",
       "\n",
       "    .dataframe thead th {\n",
       "        text-align: right;\n",
       "    }\n",
       "</style>\n",
       "<table border=\"1\" class=\"dataframe\">\n",
       "  <thead>\n",
       "    <tr style=\"text-align: right;\">\n",
       "      <th></th>\n",
       "      <th>PatientID</th>\n",
       "      <th>FirstName</th>\n",
       "      <th>LastName</th>\n",
       "      <th>DateOfBirth</th>\n",
       "      <th>Gender</th>\n",
       "      <th>Race</th>\n",
       "      <th>Language</th>\n",
       "      <th>AdmissionID</th>\n",
       "      <th>AdmissionDate</th>\n",
       "      <th>DischargeDate</th>\n",
       "      <th>DischargeDisposition</th>\n",
       "      <th>Service</th>\n",
       "      <th>PrimaryDiagnosis</th>\n",
       "      <th>ExpectedLOS</th>\n",
       "      <th>ExpectedMortality</th>\n",
       "      <th>_merge</th>\n",
       "    </tr>\n",
       "  </thead>\n",
       "  <tbody>\n",
       "    <tr>\n",
       "      <th>0</th>\n",
       "      <td>1</td>\n",
       "      <td>Lanni</td>\n",
       "      <td>Sue</td>\n",
       "      <td>1960-01-01 00:00:00.000</td>\n",
       "      <td>Male</td>\n",
       "      <td>White</td>\n",
       "      <td>English</td>\n",
       "      <td>389.0</td>\n",
       "      <td>2018-01-01</td>\n",
       "      <td>2018-01-04 19:59:31.391</td>\n",
       "      <td>Home</td>\n",
       "      <td>Hospitalist</td>\n",
       "      <td>Kidney Failure</td>\n",
       "      <td>6.717771</td>\n",
       "      <td>0.010046</td>\n",
       "      <td>both</td>\n",
       "    </tr>\n",
       "    <tr>\n",
       "      <th>1</th>\n",
       "      <td>2</td>\n",
       "      <td>Far</td>\n",
       "      <td>Myers</td>\n",
       "      <td>1985-11-15 02:08:42.090</td>\n",
       "      <td>Male</td>\n",
       "      <td>White</td>\n",
       "      <td>English</td>\n",
       "      <td>635.0</td>\n",
       "      <td>2018-01-01</td>\n",
       "      <td>2018-01-04 21:28:51.898</td>\n",
       "      <td>Home</td>\n",
       "      <td>General Medicine</td>\n",
       "      <td>Flu</td>\n",
       "      <td>3.825969</td>\n",
       "      <td>0.604562</td>\n",
       "      <td>both</td>\n",
       "    </tr>\n",
       "    <tr>\n",
       "      <th>2</th>\n",
       "      <td>3</td>\n",
       "      <td>Devlin</td>\n",
       "      <td>Michael</td>\n",
       "      <td>1976-04-15 02:52:09.762</td>\n",
       "      <td>Male</td>\n",
       "      <td>White</td>\n",
       "      <td>English</td>\n",
       "      <td>606.0</td>\n",
       "      <td>2018-01-01</td>\n",
       "      <td>2018-01-04 22:28:23.672</td>\n",
       "      <td>Home</td>\n",
       "      <td>General Medicine</td>\n",
       "      <td>Flu</td>\n",
       "      <td>3.382493</td>\n",
       "      <td>0.266137</td>\n",
       "      <td>both</td>\n",
       "    </tr>\n",
       "    <tr>\n",
       "      <th>3</th>\n",
       "      <td>4</td>\n",
       "      <td>Carmine</td>\n",
       "      <td>Texas</td>\n",
       "      <td>1968-10-15 03:32:13.635</td>\n",
       "      <td>Male</td>\n",
       "      <td>White</td>\n",
       "      <td>English</td>\n",
       "      <td>NaN</td>\n",
       "      <td>NaT</td>\n",
       "      <td>NaT</td>\n",
       "      <td>NaN</td>\n",
       "      <td>NaN</td>\n",
       "      <td>NaN</td>\n",
       "      <td>NaN</td>\n",
       "      <td>NaN</td>\n",
       "      <td>left_only</td>\n",
       "    </tr>\n",
       "    <tr>\n",
       "      <th>4</th>\n",
       "      <td>5</td>\n",
       "      <td>Tann</td>\n",
       "      <td>Bama</td>\n",
       "      <td>1962-05-01 19:12:58.950</td>\n",
       "      <td>Male</td>\n",
       "      <td>White</td>\n",
       "      <td>English</td>\n",
       "      <td>587.0</td>\n",
       "      <td>2018-01-01</td>\n",
       "      <td>2018-01-05 05:47:04.933</td>\n",
       "      <td>Home</td>\n",
       "      <td>General Medicine</td>\n",
       "      <td>Flu</td>\n",
       "      <td>3.763352</td>\n",
       "      <td>0.307527</td>\n",
       "      <td>both</td>\n",
       "    </tr>\n",
       "  </tbody>\n",
       "</table>\n",
       "</div>"
      ],
      "text/plain": [
       "   PatientID FirstName LastName             DateOfBirth Gender   Race  \\\n",
       "0          1     Lanni      Sue 1960-01-01 00:00:00.000   Male  White   \n",
       "1          2       Far    Myers 1985-11-15 02:08:42.090   Male  White   \n",
       "2          3   Devlin   Michael 1976-04-15 02:52:09.762   Male  White   \n",
       "3          4   Carmine    Texas 1968-10-15 03:32:13.635   Male  White   \n",
       "4          5     Tann      Bama 1962-05-01 19:12:58.950   Male  White   \n",
       "\n",
       "  Language  AdmissionID AdmissionDate           DischargeDate  \\\n",
       "0  English        389.0    2018-01-01 2018-01-04 19:59:31.391   \n",
       "1  English        635.0    2018-01-01 2018-01-04 21:28:51.898   \n",
       "2  English        606.0    2018-01-01 2018-01-04 22:28:23.672   \n",
       "3  English          NaN           NaT                     NaT   \n",
       "4  English        587.0    2018-01-01 2018-01-05 05:47:04.933   \n",
       "\n",
       "  DischargeDisposition           Service PrimaryDiagnosis  ExpectedLOS  \\\n",
       "0                 Home       Hospitalist   Kidney Failure     6.717771   \n",
       "1                 Home  General Medicine              Flu     3.825969   \n",
       "2                 Home  General Medicine              Flu     3.382493   \n",
       "3                  NaN               NaN              NaN          NaN   \n",
       "4                 Home  General Medicine              Flu     3.763352   \n",
       "\n",
       "   ExpectedMortality     _merge  \n",
       "0           0.010046       both  \n",
       "1           0.604562       both  \n",
       "2           0.266137       both  \n",
       "3                NaN  left_only  \n",
       "4           0.307527       both  "
      ]
     },
     "execution_count": 14,
     "metadata": {},
     "output_type": "execute_result"
    }
   ],
   "source": [
    "\"\"\"Indicator Flag :adds a column to the output DataFrame called \"_merge\" with\n",
    "     information on the source of each row. The column can be given a different\n",
    "    name by providing a string argument. The column will have a Categorical\n",
    "    type with the value of \"left_only\" for observations whose merge key only\n",
    "     appears in the left DataFrame, \"right_only\" for observations\n",
    "     whose merge key only appears in the right DataFrame, and \"both\"\n",
    "     if the observation's merge key is found in both DataFrames.\"\"\"\n",
    "\n",
    "merge_df1=pd.merge(Patients_df,Discharges_df,on=\"PatientID\",how=\"left\",indicator=True)\n",
    "merge_df1.head()\n"
   ]
  },
  {
   "cell_type": "markdown",
   "id": "335314c1",
   "metadata": {},
   "source": [
    "### Q4:details for patient who has maximum pulse (AmbalatoryVisits table)\n"
   ]
  },
  {
   "cell_type": "code",
   "execution_count": 15,
   "id": "763094b0",
   "metadata": {},
   "outputs": [
    {
     "name": "stdout",
     "output_type": "stream",
     "text": [
      "99.98646314\n"
     ]
    },
    {
     "data": {
      "text/plain": [
       "6"
      ]
     },
     "execution_count": 15,
     "metadata": {},
     "output_type": "execute_result"
    }
   ],
   "source": [
    "print(AmbulatoryVisits_df['Pulse'].max())\n",
    "AmbulatoryVisits_df['VisitDepartmentID'].loc[AmbulatoryVisits_df['Pulse'].idxmax()]\n"
   ]
  },
  {
   "cell_type": "markdown",
   "id": "31b176ea",
   "metadata": {},
   "source": [
    "### Q5: Searching for patterns in Text using Regular Expressions\n"
   ]
  },
  {
   "cell_type": "code",
   "execution_count": 16,
   "id": "ce2959e9",
   "metadata": {},
   "outputs": [
    {
     "name": "stdout",
     "output_type": "stream",
     "text": [
      "Searching for \"term1\" in:\n",
      " \"This is a string with term1, but it does not have the other term.\"\n",
      "\n",
      "Match was found. \n",
      "\n",
      "Searching for \"term2\" in:\n",
      " \"This is a string with term1, but it does not have the other term.\"\n",
      "\n",
      "No Match was found.\n",
      "\n"
     ]
    }
   ],
   "source": [
    "import re\n",
    "\n",
    "# List of patterns to search for\n",
    "patterns = ['term1', 'term2']\n",
    "\n",
    "# Text to parse\n",
    "text = 'This is a string with term1, but it does not have the other term.'\n",
    "\n",
    "for pattern in patterns:\n",
    "    print('Searching for \"%s\" in:\\n \"%s\"\\n' %(pattern,text))\n",
    "    \n",
    "    #Check for match\n",
    "    if re.search(pattern,text):\n",
    "        print('Match was found. \\n')\n",
    "    else:\n",
    "        print('No Match was found.\\n')\n"
   ]
  },
  {
   "cell_type": "code",
   "execution_count": null,
   "id": "8e310f6a",
   "metadata": {},
   "outputs": [],
   "source": []
  }
 ],
 "metadata": {
  "kernelspec": {
   "display_name": "Python 3 (ipykernel)",
   "language": "python",
   "name": "python3"
  },
  "language_info": {
   "codemirror_mode": {
    "name": "ipython",
    "version": 3
   },
   "file_extension": ".py",
   "mimetype": "text/x-python",
   "name": "python",
   "nbconvert_exporter": "python",
   "pygments_lexer": "ipython3",
   "version": "3.9.7"
  }
 },
 "nbformat": 4,
 "nbformat_minor": 5
}
