{
 "cells": [
  {
   "cell_type": "code",
   "execution_count": 21,
   "id": "weighted-cylinder",
   "metadata": {},
   "outputs": [],
   "source": [
    "# Load the necessary packages and modules\n",
    "import pandas as pd\n",
    "import numpy as np\n",
    "import seaborn as sns\n",
    "import matplotlib.pyplot as plt\n",
    "import plotly.express as px"
   ]
  },
  {
   "cell_type": "code",
   "execution_count": 22,
   "id": "finite-dover",
   "metadata": {},
   "outputs": [],
   "source": [
    "Patients_df=pd.read_excel(\"HospitalDatabase.xlsx\",\"Patients\")"
   ]
  },
  {
   "cell_type": "code",
   "execution_count": 23,
   "id": "coastal-phase",
   "metadata": {},
   "outputs": [],
   "source": [
    "Discharges_df=pd.read_excel(\"HospitalDatabase.xlsx\",\"Discharges\")"
   ]
  },
  {
   "cell_type": "code",
   "execution_count": 24,
   "id": "banner-mouse",
   "metadata": {},
   "outputs": [],
   "source": [
    "EDVisits = pd.read_excel(\"HospitalDatabase.xlsx\", \"EDVisits\")"
   ]
  },
  {
   "cell_type": "code",
   "execution_count": 25,
   "id": "skilled-pickup",
   "metadata": {},
   "outputs": [],
   "source": [
    "AmbulatoryVisits_df = pd.read_excel(\"HospitalDatabase.xlsx\", \"AmbulatoryVisits\")"
   ]
  },
  {
   "cell_type": "code",
   "execution_count": 26,
   "id": "equipped-tracker",
   "metadata": {},
   "outputs": [],
   "source": [
    "Providers_df = pd.read_excel(\"HospitalDatabase.xlsx\", \"Providers\")"
   ]
  },
  {
   "cell_type": "code",
   "execution_count": 27,
   "id": "amended-notion",
   "metadata": {},
   "outputs": [],
   "source": [
    "EDUnique_df = pd.read_excel(\"HospitalDatabase.xlsx\", \"EDUnique\")"
   ]
  },
  {
   "cell_type": "code",
   "execution_count": 28,
   "id": "eight-victory",
   "metadata": {},
   "outputs": [],
   "source": [
    "ReAdmissionRegistry_df = pd.read_excel(\"HospitalDatabase.xlsx\", 'ReAdmissionRegistry')"
   ]
  },
  {
   "cell_type": "markdown",
   "id": "executed-arrow",
   "metadata": {},
   "source": [
    "### Q1. Grouped Bar Chart : To find the number of patients discharged by Primary diagnosis"
   ]
  },
  {
   "cell_type": "code",
   "execution_count": 29,
   "id": "visible-fantasy",
   "metadata": {},
   "outputs": [
    {
     "data": {
      "text/html": [
       "<div>\n",
       "<style scoped>\n",
       "    .dataframe tbody tr th:only-of-type {\n",
       "        vertical-align: middle;\n",
       "    }\n",
       "\n",
       "    .dataframe tbody tr th {\n",
       "        vertical-align: top;\n",
       "    }\n",
       "\n",
       "    .dataframe thead th {\n",
       "        text-align: right;\n",
       "    }\n",
       "</style>\n",
       "<table border=\"1\" class=\"dataframe\">\n",
       "  <thead>\n",
       "    <tr style=\"text-align: right;\">\n",
       "      <th></th>\n",
       "      <th>PrimaryDiagnosis</th>\n",
       "      <th>DischargeDisposition</th>\n",
       "      <th>PatientID</th>\n",
       "    </tr>\n",
       "  </thead>\n",
       "  <tbody>\n",
       "    <tr>\n",
       "      <th>0</th>\n",
       "      <td>AMI</td>\n",
       "      <td>Expired</td>\n",
       "      <td>6</td>\n",
       "    </tr>\n",
       "    <tr>\n",
       "      <th>1</th>\n",
       "      <td>AMI</td>\n",
       "      <td>Home</td>\n",
       "      <td>42</td>\n",
       "    </tr>\n",
       "    <tr>\n",
       "      <th>2</th>\n",
       "      <td>Afib</td>\n",
       "      <td>Expired</td>\n",
       "      <td>4</td>\n",
       "    </tr>\n",
       "    <tr>\n",
       "      <th>3</th>\n",
       "      <td>Afib</td>\n",
       "      <td>Home</td>\n",
       "      <td>6</td>\n",
       "    </tr>\n",
       "    <tr>\n",
       "      <th>4</th>\n",
       "      <td>Afib</td>\n",
       "      <td>Transfer</td>\n",
       "      <td>1</td>\n",
       "    </tr>\n",
       "  </tbody>\n",
       "</table>\n",
       "</div>"
      ],
      "text/plain": [
       "  PrimaryDiagnosis DischargeDisposition  PatientID\n",
       "0              AMI              Expired          6\n",
       "1              AMI                 Home         42\n",
       "2             Afib              Expired          4\n",
       "3             Afib                 Home          6\n",
       "4             Afib             Transfer          1"
      ]
     },
     "execution_count": 29,
     "metadata": {},
     "output_type": "execute_result"
    }
   ],
   "source": [
    "Exp_home_tra = Discharges_df.groupby([\"PrimaryDiagnosis\", \"DischargeDisposition\"], as_index=False).agg({'PatientID': pd.Series.count})\n",
    "Exp_home_tra.head()"
   ]
  },
  {
   "cell_type": "code",
   "execution_count": 170,
   "id": "partial-testament",
   "metadata": {},
   "outputs": [
    {
     "data": {
      "application/vnd.plotly.v1+json": {
       "config": {
        "plotlyServerURL": "https://plot.ly"
       },
       "data": [
        {
         "alignmentgroup": "True",
         "hovertemplate": "DischargeDisposition=Expired<br>PrimaryDiagnosis=%{x}<br>PatientID=%{y}<extra></extra>",
         "legendgroup": "Expired",
         "marker": {
          "color": "#636efa"
         },
         "name": "Expired",
         "offsetgroup": "Expired",
         "orientation": "v",
         "showlegend": true,
         "textposition": "auto",
         "type": "bar",
         "x": [
          "AMI",
          "Afib",
          "Broken Leg",
          "Diabetes",
          "Fever",
          "Flu",
          "Heart Failure",
          "Hip Fracture",
          "Hypertension",
          "Kidney Failure",
          "Knee Replacement",
          "Laceration",
          "Pain",
          "Pneumonia",
          "Spinal Cord Injury",
          "Stroke"
         ],
         "xaxis": "x",
         "y": [
          6,
          4,
          3,
          9,
          4,
          11,
          16,
          3,
          16,
          2,
          2,
          2,
          1,
          16,
          2,
          7
         ],
         "yaxis": "y"
        },
        {
         "alignmentgroup": "True",
         "hovertemplate": "DischargeDisposition=Home<br>PrimaryDiagnosis=%{x}<br>PatientID=%{y}<extra></extra>",
         "legendgroup": "Home",
         "marker": {
          "color": "#EF553B"
         },
         "name": "Home",
         "offsetgroup": "Home",
         "orientation": "v",
         "showlegend": true,
         "textposition": "auto",
         "type": "bar",
         "x": [
          "AMI",
          "Afib",
          "Broken Leg",
          "Diabetes",
          "Fever",
          "Flu",
          "Heart Failure",
          "Hip Fracture",
          "Hypertension",
          "Kidney Failure",
          "Knee Replacement",
          "Laceration",
          "Migraine",
          "Pain",
          "Pneumonia",
          "Stroke"
         ],
         "xaxis": "x",
         "y": [
          42,
          6,
          6,
          48,
          15,
          67,
          53,
          20,
          34,
          18,
          20,
          26,
          12,
          5,
          153,
          52
         ],
         "yaxis": "y"
        },
        {
         "alignmentgroup": "True",
         "hovertemplate": "DischargeDisposition=Transfer<br>PrimaryDiagnosis=%{x}<br>PatientID=%{y}<extra></extra>",
         "legendgroup": "Transfer",
         "marker": {
          "color": "#00cc96"
         },
         "name": "Transfer",
         "offsetgroup": "Transfer",
         "orientation": "v",
         "showlegend": true,
         "textposition": "auto",
         "type": "bar",
         "x": [
          "Afib",
          "Diabetes",
          "Flu",
          "Heart Failure",
          "Knee Replacement",
          "Laceration",
          "Pain",
          "Pneumonia",
          "Stroke"
         ],
         "xaxis": "x",
         "y": [
          1,
          7,
          2,
          9,
          1,
          1,
          1,
          8,
          9
         ],
         "yaxis": "y"
        }
       ],
       "layout": {
        "barmode": "group",
        "legend": {
         "title": {
          "text": "DischargeDisposition"
         },
         "tracegroupgap": 0
        },
        "template": {
         "data": {
          "bar": [
           {
            "error_x": {
             "color": "#2a3f5f"
            },
            "error_y": {
             "color": "#2a3f5f"
            },
            "marker": {
             "line": {
              "color": "#E5ECF6",
              "width": 0.5
             }
            },
            "type": "bar"
           }
          ],
          "barpolar": [
           {
            "marker": {
             "line": {
              "color": "#E5ECF6",
              "width": 0.5
             }
            },
            "type": "barpolar"
           }
          ],
          "carpet": [
           {
            "aaxis": {
             "endlinecolor": "#2a3f5f",
             "gridcolor": "white",
             "linecolor": "white",
             "minorgridcolor": "white",
             "startlinecolor": "#2a3f5f"
            },
            "baxis": {
             "endlinecolor": "#2a3f5f",
             "gridcolor": "white",
             "linecolor": "white",
             "minorgridcolor": "white",
             "startlinecolor": "#2a3f5f"
            },
            "type": "carpet"
           }
          ],
          "choropleth": [
           {
            "colorbar": {
             "outlinewidth": 0,
             "ticks": ""
            },
            "type": "choropleth"
           }
          ],
          "contour": [
           {
            "colorbar": {
             "outlinewidth": 0,
             "ticks": ""
            },
            "colorscale": [
             [
              0,
              "#0d0887"
             ],
             [
              0.1111111111111111,
              "#46039f"
             ],
             [
              0.2222222222222222,
              "#7201a8"
             ],
             [
              0.3333333333333333,
              "#9c179e"
             ],
             [
              0.4444444444444444,
              "#bd3786"
             ],
             [
              0.5555555555555556,
              "#d8576b"
             ],
             [
              0.6666666666666666,
              "#ed7953"
             ],
             [
              0.7777777777777778,
              "#fb9f3a"
             ],
             [
              0.8888888888888888,
              "#fdca26"
             ],
             [
              1,
              "#f0f921"
             ]
            ],
            "type": "contour"
           }
          ],
          "contourcarpet": [
           {
            "colorbar": {
             "outlinewidth": 0,
             "ticks": ""
            },
            "type": "contourcarpet"
           }
          ],
          "heatmap": [
           {
            "colorbar": {
             "outlinewidth": 0,
             "ticks": ""
            },
            "colorscale": [
             [
              0,
              "#0d0887"
             ],
             [
              0.1111111111111111,
              "#46039f"
             ],
             [
              0.2222222222222222,
              "#7201a8"
             ],
             [
              0.3333333333333333,
              "#9c179e"
             ],
             [
              0.4444444444444444,
              "#bd3786"
             ],
             [
              0.5555555555555556,
              "#d8576b"
             ],
             [
              0.6666666666666666,
              "#ed7953"
             ],
             [
              0.7777777777777778,
              "#fb9f3a"
             ],
             [
              0.8888888888888888,
              "#fdca26"
             ],
             [
              1,
              "#f0f921"
             ]
            ],
            "type": "heatmap"
           }
          ],
          "heatmapgl": [
           {
            "colorbar": {
             "outlinewidth": 0,
             "ticks": ""
            },
            "colorscale": [
             [
              0,
              "#0d0887"
             ],
             [
              0.1111111111111111,
              "#46039f"
             ],
             [
              0.2222222222222222,
              "#7201a8"
             ],
             [
              0.3333333333333333,
              "#9c179e"
             ],
             [
              0.4444444444444444,
              "#bd3786"
             ],
             [
              0.5555555555555556,
              "#d8576b"
             ],
             [
              0.6666666666666666,
              "#ed7953"
             ],
             [
              0.7777777777777778,
              "#fb9f3a"
             ],
             [
              0.8888888888888888,
              "#fdca26"
             ],
             [
              1,
              "#f0f921"
             ]
            ],
            "type": "heatmapgl"
           }
          ],
          "histogram": [
           {
            "marker": {
             "colorbar": {
              "outlinewidth": 0,
              "ticks": ""
             }
            },
            "type": "histogram"
           }
          ],
          "histogram2d": [
           {
            "colorbar": {
             "outlinewidth": 0,
             "ticks": ""
            },
            "colorscale": [
             [
              0,
              "#0d0887"
             ],
             [
              0.1111111111111111,
              "#46039f"
             ],
             [
              0.2222222222222222,
              "#7201a8"
             ],
             [
              0.3333333333333333,
              "#9c179e"
             ],
             [
              0.4444444444444444,
              "#bd3786"
             ],
             [
              0.5555555555555556,
              "#d8576b"
             ],
             [
              0.6666666666666666,
              "#ed7953"
             ],
             [
              0.7777777777777778,
              "#fb9f3a"
             ],
             [
              0.8888888888888888,
              "#fdca26"
             ],
             [
              1,
              "#f0f921"
             ]
            ],
            "type": "histogram2d"
           }
          ],
          "histogram2dcontour": [
           {
            "colorbar": {
             "outlinewidth": 0,
             "ticks": ""
            },
            "colorscale": [
             [
              0,
              "#0d0887"
             ],
             [
              0.1111111111111111,
              "#46039f"
             ],
             [
              0.2222222222222222,
              "#7201a8"
             ],
             [
              0.3333333333333333,
              "#9c179e"
             ],
             [
              0.4444444444444444,
              "#bd3786"
             ],
             [
              0.5555555555555556,
              "#d8576b"
             ],
             [
              0.6666666666666666,
              "#ed7953"
             ],
             [
              0.7777777777777778,
              "#fb9f3a"
             ],
             [
              0.8888888888888888,
              "#fdca26"
             ],
             [
              1,
              "#f0f921"
             ]
            ],
            "type": "histogram2dcontour"
           }
          ],
          "mesh3d": [
           {
            "colorbar": {
             "outlinewidth": 0,
             "ticks": ""
            },
            "type": "mesh3d"
           }
          ],
          "parcoords": [
           {
            "line": {
             "colorbar": {
              "outlinewidth": 0,
              "ticks": ""
             }
            },
            "type": "parcoords"
           }
          ],
          "pie": [
           {
            "automargin": true,
            "type": "pie"
           }
          ],
          "scatter": [
           {
            "marker": {
             "colorbar": {
              "outlinewidth": 0,
              "ticks": ""
             }
            },
            "type": "scatter"
           }
          ],
          "scatter3d": [
           {
            "line": {
             "colorbar": {
              "outlinewidth": 0,
              "ticks": ""
             }
            },
            "marker": {
             "colorbar": {
              "outlinewidth": 0,
              "ticks": ""
             }
            },
            "type": "scatter3d"
           }
          ],
          "scattercarpet": [
           {
            "marker": {
             "colorbar": {
              "outlinewidth": 0,
              "ticks": ""
             }
            },
            "type": "scattercarpet"
           }
          ],
          "scattergeo": [
           {
            "marker": {
             "colorbar": {
              "outlinewidth": 0,
              "ticks": ""
             }
            },
            "type": "scattergeo"
           }
          ],
          "scattergl": [
           {
            "marker": {
             "colorbar": {
              "outlinewidth": 0,
              "ticks": ""
             }
            },
            "type": "scattergl"
           }
          ],
          "scattermapbox": [
           {
            "marker": {
             "colorbar": {
              "outlinewidth": 0,
              "ticks": ""
             }
            },
            "type": "scattermapbox"
           }
          ],
          "scatterpolar": [
           {
            "marker": {
             "colorbar": {
              "outlinewidth": 0,
              "ticks": ""
             }
            },
            "type": "scatterpolar"
           }
          ],
          "scatterpolargl": [
           {
            "marker": {
             "colorbar": {
              "outlinewidth": 0,
              "ticks": ""
             }
            },
            "type": "scatterpolargl"
           }
          ],
          "scatterternary": [
           {
            "marker": {
             "colorbar": {
              "outlinewidth": 0,
              "ticks": ""
             }
            },
            "type": "scatterternary"
           }
          ],
          "surface": [
           {
            "colorbar": {
             "outlinewidth": 0,
             "ticks": ""
            },
            "colorscale": [
             [
              0,
              "#0d0887"
             ],
             [
              0.1111111111111111,
              "#46039f"
             ],
             [
              0.2222222222222222,
              "#7201a8"
             ],
             [
              0.3333333333333333,
              "#9c179e"
             ],
             [
              0.4444444444444444,
              "#bd3786"
             ],
             [
              0.5555555555555556,
              "#d8576b"
             ],
             [
              0.6666666666666666,
              "#ed7953"
             ],
             [
              0.7777777777777778,
              "#fb9f3a"
             ],
             [
              0.8888888888888888,
              "#fdca26"
             ],
             [
              1,
              "#f0f921"
             ]
            ],
            "type": "surface"
           }
          ],
          "table": [
           {
            "cells": {
             "fill": {
              "color": "#EBF0F8"
             },
             "line": {
              "color": "white"
             }
            },
            "header": {
             "fill": {
              "color": "#C8D4E3"
             },
             "line": {
              "color": "white"
             }
            },
            "type": "table"
           }
          ]
         },
         "layout": {
          "annotationdefaults": {
           "arrowcolor": "#2a3f5f",
           "arrowhead": 0,
           "arrowwidth": 1
          },
          "autotypenumbers": "strict",
          "coloraxis": {
           "colorbar": {
            "outlinewidth": 0,
            "ticks": ""
           }
          },
          "colorscale": {
           "diverging": [
            [
             0,
             "#8e0152"
            ],
            [
             0.1,
             "#c51b7d"
            ],
            [
             0.2,
             "#de77ae"
            ],
            [
             0.3,
             "#f1b6da"
            ],
            [
             0.4,
             "#fde0ef"
            ],
            [
             0.5,
             "#f7f7f7"
            ],
            [
             0.6,
             "#e6f5d0"
            ],
            [
             0.7,
             "#b8e186"
            ],
            [
             0.8,
             "#7fbc41"
            ],
            [
             0.9,
             "#4d9221"
            ],
            [
             1,
             "#276419"
            ]
           ],
           "sequential": [
            [
             0,
             "#0d0887"
            ],
            [
             0.1111111111111111,
             "#46039f"
            ],
            [
             0.2222222222222222,
             "#7201a8"
            ],
            [
             0.3333333333333333,
             "#9c179e"
            ],
            [
             0.4444444444444444,
             "#bd3786"
            ],
            [
             0.5555555555555556,
             "#d8576b"
            ],
            [
             0.6666666666666666,
             "#ed7953"
            ],
            [
             0.7777777777777778,
             "#fb9f3a"
            ],
            [
             0.8888888888888888,
             "#fdca26"
            ],
            [
             1,
             "#f0f921"
            ]
           ],
           "sequentialminus": [
            [
             0,
             "#0d0887"
            ],
            [
             0.1111111111111111,
             "#46039f"
            ],
            [
             0.2222222222222222,
             "#7201a8"
            ],
            [
             0.3333333333333333,
             "#9c179e"
            ],
            [
             0.4444444444444444,
             "#bd3786"
            ],
            [
             0.5555555555555556,
             "#d8576b"
            ],
            [
             0.6666666666666666,
             "#ed7953"
            ],
            [
             0.7777777777777778,
             "#fb9f3a"
            ],
            [
             0.8888888888888888,
             "#fdca26"
            ],
            [
             1,
             "#f0f921"
            ]
           ]
          },
          "colorway": [
           "#636efa",
           "#EF553B",
           "#00cc96",
           "#ab63fa",
           "#FFA15A",
           "#19d3f3",
           "#FF6692",
           "#B6E880",
           "#FF97FF",
           "#FECB52"
          ],
          "font": {
           "color": "#2a3f5f"
          },
          "geo": {
           "bgcolor": "white",
           "lakecolor": "white",
           "landcolor": "#E5ECF6",
           "showlakes": true,
           "showland": true,
           "subunitcolor": "white"
          },
          "hoverlabel": {
           "align": "left"
          },
          "hovermode": "closest",
          "mapbox": {
           "style": "light"
          },
          "paper_bgcolor": "white",
          "plot_bgcolor": "#E5ECF6",
          "polar": {
           "angularaxis": {
            "gridcolor": "white",
            "linecolor": "white",
            "ticks": ""
           },
           "bgcolor": "#E5ECF6",
           "radialaxis": {
            "gridcolor": "white",
            "linecolor": "white",
            "ticks": ""
           }
          },
          "scene": {
           "xaxis": {
            "backgroundcolor": "#E5ECF6",
            "gridcolor": "white",
            "gridwidth": 2,
            "linecolor": "white",
            "showbackground": true,
            "ticks": "",
            "zerolinecolor": "white"
           },
           "yaxis": {
            "backgroundcolor": "#E5ECF6",
            "gridcolor": "white",
            "gridwidth": 2,
            "linecolor": "white",
            "showbackground": true,
            "ticks": "",
            "zerolinecolor": "white"
           },
           "zaxis": {
            "backgroundcolor": "#E5ECF6",
            "gridcolor": "white",
            "gridwidth": 2,
            "linecolor": "white",
            "showbackground": true,
            "ticks": "",
            "zerolinecolor": "white"
           }
          },
          "shapedefaults": {
           "line": {
            "color": "#2a3f5f"
           }
          },
          "ternary": {
           "aaxis": {
            "gridcolor": "white",
            "linecolor": "white",
            "ticks": ""
           },
           "baxis": {
            "gridcolor": "white",
            "linecolor": "white",
            "ticks": ""
           },
           "bgcolor": "#E5ECF6",
           "caxis": {
            "gridcolor": "white",
            "linecolor": "white",
            "ticks": ""
           }
          },
          "title": {
           "x": 0.05
          },
          "xaxis": {
           "automargin": true,
           "gridcolor": "white",
           "linecolor": "white",
           "ticks": "",
           "title": {
            "standoff": 15
           },
           "zerolinecolor": "white",
           "zerolinewidth": 2
          },
          "yaxis": {
           "automargin": true,
           "gridcolor": "white",
           "linecolor": "white",
           "ticks": "",
           "title": {
            "standoff": 15
           },
           "zerolinecolor": "white",
           "zerolinewidth": 2
          }
         }
        },
        "title": {
         "text": "DischargeDisposition by PrimaryDiagnosis"
        },
        "xaxis": {
         "anchor": "y",
         "categoryorder": "total descending",
         "domain": [
          0,
          1
         ],
         "title": {
          "text": "PrimaryDiagnosis"
         }
        },
        "yaxis": {
         "anchor": "x",
         "domain": [
          0,
          1
         ],
         "title": {
          "text": "Number of Patients"
         },
         "type": "log"
        }
       }
      },
      "text/html": [
       "<div>                            <div id=\"db2fec68-8863-4a16-94c1-b50b65af7067\" class=\"plotly-graph-div\" style=\"height:525px; width:100%;\"></div>            <script type=\"text/javascript\">                require([\"plotly\"], function(Plotly) {                    window.PLOTLYENV=window.PLOTLYENV || {};                                    if (document.getElementById(\"db2fec68-8863-4a16-94c1-b50b65af7067\")) {                    Plotly.newPlot(                        \"db2fec68-8863-4a16-94c1-b50b65af7067\",                        [{\"alignmentgroup\": \"True\", \"hovertemplate\": \"DischargeDisposition=Expired<br>PrimaryDiagnosis=%{x}<br>PatientID=%{y}<extra></extra>\", \"legendgroup\": \"Expired\", \"marker\": {\"color\": \"#636efa\"}, \"name\": \"Expired\", \"offsetgroup\": \"Expired\", \"orientation\": \"v\", \"showlegend\": true, \"textposition\": \"auto\", \"type\": \"bar\", \"x\": [\"AMI\", \"Afib\", \"Broken Leg\", \"Diabetes\", \"Fever\", \"Flu\", \"Heart Failure\", \"Hip Fracture\", \"Hypertension\", \"Kidney Failure\", \"Knee Replacement\", \"Laceration\", \"Pain\", \"Pneumonia\", \"Spinal Cord Injury\", \"Stroke\"], \"xaxis\": \"x\", \"y\": [6, 4, 3, 9, 4, 11, 16, 3, 16, 2, 2, 2, 1, 16, 2, 7], \"yaxis\": \"y\"}, {\"alignmentgroup\": \"True\", \"hovertemplate\": \"DischargeDisposition=Home<br>PrimaryDiagnosis=%{x}<br>PatientID=%{y}<extra></extra>\", \"legendgroup\": \"Home\", \"marker\": {\"color\": \"#EF553B\"}, \"name\": \"Home\", \"offsetgroup\": \"Home\", \"orientation\": \"v\", \"showlegend\": true, \"textposition\": \"auto\", \"type\": \"bar\", \"x\": [\"AMI\", \"Afib\", \"Broken Leg\", \"Diabetes\", \"Fever\", \"Flu\", \"Heart Failure\", \"Hip Fracture\", \"Hypertension\", \"Kidney Failure\", \"Knee Replacement\", \"Laceration\", \"Migraine\", \"Pain\", \"Pneumonia\", \"Stroke\"], \"xaxis\": \"x\", \"y\": [42, 6, 6, 48, 15, 67, 53, 20, 34, 18, 20, 26, 12, 5, 153, 52], \"yaxis\": \"y\"}, {\"alignmentgroup\": \"True\", \"hovertemplate\": \"DischargeDisposition=Transfer<br>PrimaryDiagnosis=%{x}<br>PatientID=%{y}<extra></extra>\", \"legendgroup\": \"Transfer\", \"marker\": {\"color\": \"#00cc96\"}, \"name\": \"Transfer\", \"offsetgroup\": \"Transfer\", \"orientation\": \"v\", \"showlegend\": true, \"textposition\": \"auto\", \"type\": \"bar\", \"x\": [\"Afib\", \"Diabetes\", \"Flu\", \"Heart Failure\", \"Knee Replacement\", \"Laceration\", \"Pain\", \"Pneumonia\", \"Stroke\"], \"xaxis\": \"x\", \"y\": [1, 7, 2, 9, 1, 1, 1, 8, 9], \"yaxis\": \"y\"}],                        {\"barmode\": \"group\", \"legend\": {\"title\": {\"text\": \"DischargeDisposition\"}, \"tracegroupgap\": 0}, \"template\": {\"data\": {\"bar\": [{\"error_x\": {\"color\": \"#2a3f5f\"}, \"error_y\": {\"color\": \"#2a3f5f\"}, \"marker\": {\"line\": {\"color\": \"#E5ECF6\", \"width\": 0.5}}, \"type\": \"bar\"}], \"barpolar\": [{\"marker\": {\"line\": {\"color\": \"#E5ECF6\", \"width\": 0.5}}, \"type\": \"barpolar\"}], \"carpet\": [{\"aaxis\": {\"endlinecolor\": \"#2a3f5f\", \"gridcolor\": \"white\", \"linecolor\": \"white\", \"minorgridcolor\": \"white\", \"startlinecolor\": \"#2a3f5f\"}, \"baxis\": {\"endlinecolor\": \"#2a3f5f\", \"gridcolor\": \"white\", \"linecolor\": \"white\", \"minorgridcolor\": \"white\", \"startlinecolor\": \"#2a3f5f\"}, \"type\": \"carpet\"}], \"choropleth\": [{\"colorbar\": {\"outlinewidth\": 0, \"ticks\": \"\"}, \"type\": \"choropleth\"}], \"contour\": [{\"colorbar\": {\"outlinewidth\": 0, \"ticks\": \"\"}, \"colorscale\": [[0.0, \"#0d0887\"], [0.1111111111111111, \"#46039f\"], [0.2222222222222222, \"#7201a8\"], [0.3333333333333333, \"#9c179e\"], [0.4444444444444444, \"#bd3786\"], [0.5555555555555556, \"#d8576b\"], [0.6666666666666666, \"#ed7953\"], [0.7777777777777778, \"#fb9f3a\"], [0.8888888888888888, \"#fdca26\"], [1.0, \"#f0f921\"]], \"type\": \"contour\"}], \"contourcarpet\": [{\"colorbar\": {\"outlinewidth\": 0, \"ticks\": \"\"}, \"type\": \"contourcarpet\"}], \"heatmap\": [{\"colorbar\": {\"outlinewidth\": 0, \"ticks\": \"\"}, \"colorscale\": [[0.0, \"#0d0887\"], [0.1111111111111111, \"#46039f\"], [0.2222222222222222, \"#7201a8\"], [0.3333333333333333, \"#9c179e\"], [0.4444444444444444, \"#bd3786\"], [0.5555555555555556, \"#d8576b\"], [0.6666666666666666, \"#ed7953\"], [0.7777777777777778, \"#fb9f3a\"], [0.8888888888888888, \"#fdca26\"], [1.0, \"#f0f921\"]], \"type\": \"heatmap\"}], \"heatmapgl\": [{\"colorbar\": {\"outlinewidth\": 0, \"ticks\": \"\"}, \"colorscale\": [[0.0, \"#0d0887\"], [0.1111111111111111, \"#46039f\"], [0.2222222222222222, \"#7201a8\"], [0.3333333333333333, \"#9c179e\"], [0.4444444444444444, \"#bd3786\"], [0.5555555555555556, \"#d8576b\"], [0.6666666666666666, \"#ed7953\"], [0.7777777777777778, \"#fb9f3a\"], [0.8888888888888888, \"#fdca26\"], [1.0, \"#f0f921\"]], \"type\": \"heatmapgl\"}], \"histogram\": [{\"marker\": {\"colorbar\": {\"outlinewidth\": 0, \"ticks\": \"\"}}, \"type\": \"histogram\"}], \"histogram2d\": [{\"colorbar\": {\"outlinewidth\": 0, \"ticks\": \"\"}, \"colorscale\": [[0.0, \"#0d0887\"], [0.1111111111111111, \"#46039f\"], [0.2222222222222222, \"#7201a8\"], [0.3333333333333333, \"#9c179e\"], [0.4444444444444444, \"#bd3786\"], [0.5555555555555556, \"#d8576b\"], [0.6666666666666666, \"#ed7953\"], [0.7777777777777778, \"#fb9f3a\"], [0.8888888888888888, \"#fdca26\"], [1.0, \"#f0f921\"]], \"type\": \"histogram2d\"}], \"histogram2dcontour\": [{\"colorbar\": {\"outlinewidth\": 0, \"ticks\": \"\"}, \"colorscale\": [[0.0, \"#0d0887\"], [0.1111111111111111, \"#46039f\"], [0.2222222222222222, \"#7201a8\"], [0.3333333333333333, \"#9c179e\"], [0.4444444444444444, \"#bd3786\"], [0.5555555555555556, \"#d8576b\"], [0.6666666666666666, \"#ed7953\"], [0.7777777777777778, \"#fb9f3a\"], [0.8888888888888888, \"#fdca26\"], [1.0, \"#f0f921\"]], \"type\": \"histogram2dcontour\"}], \"mesh3d\": [{\"colorbar\": {\"outlinewidth\": 0, \"ticks\": \"\"}, \"type\": \"mesh3d\"}], \"parcoords\": [{\"line\": {\"colorbar\": {\"outlinewidth\": 0, \"ticks\": \"\"}}, \"type\": \"parcoords\"}], \"pie\": [{\"automargin\": true, \"type\": \"pie\"}], \"scatter\": [{\"marker\": {\"colorbar\": {\"outlinewidth\": 0, \"ticks\": \"\"}}, \"type\": \"scatter\"}], \"scatter3d\": [{\"line\": {\"colorbar\": {\"outlinewidth\": 0, \"ticks\": \"\"}}, \"marker\": {\"colorbar\": {\"outlinewidth\": 0, \"ticks\": \"\"}}, \"type\": \"scatter3d\"}], \"scattercarpet\": [{\"marker\": {\"colorbar\": {\"outlinewidth\": 0, \"ticks\": \"\"}}, \"type\": \"scattercarpet\"}], \"scattergeo\": [{\"marker\": {\"colorbar\": {\"outlinewidth\": 0, \"ticks\": \"\"}}, \"type\": \"scattergeo\"}], \"scattergl\": [{\"marker\": {\"colorbar\": {\"outlinewidth\": 0, \"ticks\": \"\"}}, \"type\": \"scattergl\"}], \"scattermapbox\": [{\"marker\": {\"colorbar\": {\"outlinewidth\": 0, \"ticks\": \"\"}}, \"type\": \"scattermapbox\"}], \"scatterpolar\": [{\"marker\": {\"colorbar\": {\"outlinewidth\": 0, \"ticks\": \"\"}}, \"type\": \"scatterpolar\"}], \"scatterpolargl\": [{\"marker\": {\"colorbar\": {\"outlinewidth\": 0, \"ticks\": \"\"}}, \"type\": \"scatterpolargl\"}], \"scatterternary\": [{\"marker\": {\"colorbar\": {\"outlinewidth\": 0, \"ticks\": \"\"}}, \"type\": \"scatterternary\"}], \"surface\": [{\"colorbar\": {\"outlinewidth\": 0, \"ticks\": \"\"}, \"colorscale\": [[0.0, \"#0d0887\"], [0.1111111111111111, \"#46039f\"], [0.2222222222222222, \"#7201a8\"], [0.3333333333333333, \"#9c179e\"], [0.4444444444444444, \"#bd3786\"], [0.5555555555555556, \"#d8576b\"], [0.6666666666666666, \"#ed7953\"], [0.7777777777777778, \"#fb9f3a\"], [0.8888888888888888, \"#fdca26\"], [1.0, \"#f0f921\"]], \"type\": \"surface\"}], \"table\": [{\"cells\": {\"fill\": {\"color\": \"#EBF0F8\"}, \"line\": {\"color\": \"white\"}}, \"header\": {\"fill\": {\"color\": \"#C8D4E3\"}, \"line\": {\"color\": \"white\"}}, \"type\": \"table\"}]}, \"layout\": {\"annotationdefaults\": {\"arrowcolor\": \"#2a3f5f\", \"arrowhead\": 0, \"arrowwidth\": 1}, \"autotypenumbers\": \"strict\", \"coloraxis\": {\"colorbar\": {\"outlinewidth\": 0, \"ticks\": \"\"}}, \"colorscale\": {\"diverging\": [[0, \"#8e0152\"], [0.1, \"#c51b7d\"], [0.2, \"#de77ae\"], [0.3, \"#f1b6da\"], [0.4, \"#fde0ef\"], [0.5, \"#f7f7f7\"], [0.6, \"#e6f5d0\"], [0.7, \"#b8e186\"], [0.8, \"#7fbc41\"], [0.9, \"#4d9221\"], [1, \"#276419\"]], \"sequential\": [[0.0, \"#0d0887\"], [0.1111111111111111, \"#46039f\"], [0.2222222222222222, \"#7201a8\"], [0.3333333333333333, \"#9c179e\"], [0.4444444444444444, \"#bd3786\"], [0.5555555555555556, \"#d8576b\"], [0.6666666666666666, \"#ed7953\"], [0.7777777777777778, \"#fb9f3a\"], [0.8888888888888888, \"#fdca26\"], [1.0, \"#f0f921\"]], \"sequentialminus\": [[0.0, \"#0d0887\"], [0.1111111111111111, \"#46039f\"], [0.2222222222222222, \"#7201a8\"], [0.3333333333333333, \"#9c179e\"], [0.4444444444444444, \"#bd3786\"], [0.5555555555555556, \"#d8576b\"], [0.6666666666666666, \"#ed7953\"], [0.7777777777777778, \"#fb9f3a\"], [0.8888888888888888, \"#fdca26\"], [1.0, \"#f0f921\"]]}, \"colorway\": [\"#636efa\", \"#EF553B\", \"#00cc96\", \"#ab63fa\", \"#FFA15A\", \"#19d3f3\", \"#FF6692\", \"#B6E880\", \"#FF97FF\", \"#FECB52\"], \"font\": {\"color\": \"#2a3f5f\"}, \"geo\": {\"bgcolor\": \"white\", \"lakecolor\": \"white\", \"landcolor\": \"#E5ECF6\", \"showlakes\": true, \"showland\": true, \"subunitcolor\": \"white\"}, \"hoverlabel\": {\"align\": \"left\"}, \"hovermode\": \"closest\", \"mapbox\": {\"style\": \"light\"}, \"paper_bgcolor\": \"white\", \"plot_bgcolor\": \"#E5ECF6\", \"polar\": {\"angularaxis\": {\"gridcolor\": \"white\", \"linecolor\": \"white\", \"ticks\": \"\"}, \"bgcolor\": \"#E5ECF6\", \"radialaxis\": {\"gridcolor\": \"white\", \"linecolor\": \"white\", \"ticks\": \"\"}}, \"scene\": {\"xaxis\": {\"backgroundcolor\": \"#E5ECF6\", \"gridcolor\": \"white\", \"gridwidth\": 2, \"linecolor\": \"white\", \"showbackground\": true, \"ticks\": \"\", \"zerolinecolor\": \"white\"}, \"yaxis\": {\"backgroundcolor\": \"#E5ECF6\", \"gridcolor\": \"white\", \"gridwidth\": 2, \"linecolor\": \"white\", \"showbackground\": true, \"ticks\": \"\", \"zerolinecolor\": \"white\"}, \"zaxis\": {\"backgroundcolor\": \"#E5ECF6\", \"gridcolor\": \"white\", \"gridwidth\": 2, \"linecolor\": \"white\", \"showbackground\": true, \"ticks\": \"\", \"zerolinecolor\": \"white\"}}, \"shapedefaults\": {\"line\": {\"color\": \"#2a3f5f\"}}, \"ternary\": {\"aaxis\": {\"gridcolor\": \"white\", \"linecolor\": \"white\", \"ticks\": \"\"}, \"baxis\": {\"gridcolor\": \"white\", \"linecolor\": \"white\", \"ticks\": \"\"}, \"bgcolor\": \"#E5ECF6\", \"caxis\": {\"gridcolor\": \"white\", \"linecolor\": \"white\", \"ticks\": \"\"}}, \"title\": {\"x\": 0.05}, \"xaxis\": {\"automargin\": true, \"gridcolor\": \"white\", \"linecolor\": \"white\", \"ticks\": \"\", \"title\": {\"standoff\": 15}, \"zerolinecolor\": \"white\", \"zerolinewidth\": 2}, \"yaxis\": {\"automargin\": true, \"gridcolor\": \"white\", \"linecolor\": \"white\", \"ticks\": \"\", \"title\": {\"standoff\": 15}, \"zerolinecolor\": \"white\", \"zerolinewidth\": 2}}}, \"title\": {\"text\": \"DischargeDisposition by PrimaryDiagnosis\"}, \"xaxis\": {\"anchor\": \"y\", \"categoryorder\": \"total descending\", \"domain\": [0.0, 1.0], \"title\": {\"text\": \"PrimaryDiagnosis\"}}, \"yaxis\": {\"anchor\": \"x\", \"domain\": [0.0, 1.0], \"title\": {\"text\": \"Number of Patients\"}, \"type\": \"log\"}},                        {\"responsive\": true}                    ).then(function(){\n",
       "                            \n",
       "var gd = document.getElementById('db2fec68-8863-4a16-94c1-b50b65af7067');\n",
       "var x = new MutationObserver(function (mutations, observer) {{\n",
       "        var display = window.getComputedStyle(gd).display;\n",
       "        if (!display || display === 'none') {{\n",
       "            console.log([gd, 'removed!']);\n",
       "            Plotly.purge(gd);\n",
       "            observer.disconnect();\n",
       "        }}\n",
       "}});\n",
       "\n",
       "// Listen for the removal of the full notebook cells\n",
       "var notebookContainer = gd.closest('#notebook-container');\n",
       "if (notebookContainer) {{\n",
       "    x.observe(notebookContainer, {childList: true});\n",
       "}}\n",
       "\n",
       "// Listen for the clearing of the current output cell\n",
       "var outputEl = gd.closest('.output');\n",
       "if (outputEl) {{\n",
       "    x.observe(outputEl, {childList: true});\n",
       "}}\n",
       "\n",
       "                        })                };                });            </script>        </div>"
      ]
     },
     "metadata": {},
     "output_type": "display_data"
    }
   ],
   "source": [
    "g_bar = px.bar(Exp_home_tra,\n",
    "               x='PrimaryDiagnosis',\n",
    "               y='PatientID',\n",
    "               title='DischargeDisposition by PrimaryDiagnosis',\n",
    "               color='DischargeDisposition',\n",
    "               barmode='group')\n",
    " \n",
    "g_bar.update_layout(xaxis_title='PrimaryDiagnosis',\n",
    "                    yaxis_title='Number of Patients',\n",
    "                    xaxis={'categoryorder':'total descending'},\n",
    "                    yaxis=dict(type='log'))\n",
    " \n",
    "g_bar.show()"
   ]
  },
  {
   "cell_type": "markdown",
   "id": "apart-transport",
   "metadata": {},
   "source": [
    "### Q2 . Applying indicator flag in merging the dataframes."
   ]
  },
  {
   "cell_type": "code",
   "execution_count": 174,
   "id": "indie-president",
   "metadata": {},
   "outputs": [
    {
     "data": {
      "text/html": [
       "<div>\n",
       "<style scoped>\n",
       "    .dataframe tbody tr th:only-of-type {\n",
       "        vertical-align: middle;\n",
       "    }\n",
       "\n",
       "    .dataframe tbody tr th {\n",
       "        vertical-align: top;\n",
       "    }\n",
       "\n",
       "    .dataframe thead th {\n",
       "        text-align: right;\n",
       "    }\n",
       "</style>\n",
       "<table border=\"1\" class=\"dataframe\">\n",
       "  <thead>\n",
       "    <tr style=\"text-align: right;\">\n",
       "      <th></th>\n",
       "      <th>PatientID</th>\n",
       "      <th>FirstName</th>\n",
       "      <th>LastName</th>\n",
       "      <th>DateOfBirth</th>\n",
       "      <th>Gender</th>\n",
       "      <th>Race</th>\n",
       "      <th>Language</th>\n",
       "      <th>AdmissionID</th>\n",
       "      <th>AdmissionDate</th>\n",
       "      <th>DischargeDate</th>\n",
       "      <th>DischargeDisposition</th>\n",
       "      <th>Service</th>\n",
       "      <th>PrimaryDiagnosis</th>\n",
       "      <th>ExpectedLOS</th>\n",
       "      <th>ExpectedMortality</th>\n",
       "      <th>_merge</th>\n",
       "    </tr>\n",
       "  </thead>\n",
       "  <tbody>\n",
       "    <tr>\n",
       "      <th>0</th>\n",
       "      <td>1</td>\n",
       "      <td>Lanni</td>\n",
       "      <td>Sue</td>\n",
       "      <td>1960-01-01 00:00:00.000000</td>\n",
       "      <td>Male</td>\n",
       "      <td>White</td>\n",
       "      <td>English</td>\n",
       "      <td>389.00</td>\n",
       "      <td>2018-01-01</td>\n",
       "      <td>2018-01-04 19:59:31.390889</td>\n",
       "      <td>Home</td>\n",
       "      <td>Hospitalist</td>\n",
       "      <td>Kidney Failure</td>\n",
       "      <td>6.72</td>\n",
       "      <td>0.01</td>\n",
       "      <td>both</td>\n",
       "    </tr>\n",
       "    <tr>\n",
       "      <th>1</th>\n",
       "      <td>2</td>\n",
       "      <td>Far</td>\n",
       "      <td>Myers</td>\n",
       "      <td>1985-11-15 02:08:42.089852</td>\n",
       "      <td>Male</td>\n",
       "      <td>White</td>\n",
       "      <td>English</td>\n",
       "      <td>635.00</td>\n",
       "      <td>2018-01-01</td>\n",
       "      <td>2018-01-04 21:28:51.897839</td>\n",
       "      <td>Home</td>\n",
       "      <td>General Medicine</td>\n",
       "      <td>Flu</td>\n",
       "      <td>3.83</td>\n",
       "      <td>0.60</td>\n",
       "      <td>both</td>\n",
       "    </tr>\n",
       "    <tr>\n",
       "      <th>2</th>\n",
       "      <td>3</td>\n",
       "      <td>Devlin</td>\n",
       "      <td>Michael</td>\n",
       "      <td>1976-04-15 02:52:09.762384</td>\n",
       "      <td>Male</td>\n",
       "      <td>White</td>\n",
       "      <td>English</td>\n",
       "      <td>606.00</td>\n",
       "      <td>2018-01-01</td>\n",
       "      <td>2018-01-04 22:28:23.672392</td>\n",
       "      <td>Home</td>\n",
       "      <td>General Medicine</td>\n",
       "      <td>Flu</td>\n",
       "      <td>3.38</td>\n",
       "      <td>0.27</td>\n",
       "      <td>both</td>\n",
       "    </tr>\n",
       "    <tr>\n",
       "      <th>3</th>\n",
       "      <td>4</td>\n",
       "      <td>Carmine</td>\n",
       "      <td>Texas</td>\n",
       "      <td>1968-10-15 03:32:13.634776</td>\n",
       "      <td>Male</td>\n",
       "      <td>White</td>\n",
       "      <td>English</td>\n",
       "      <td>NaN</td>\n",
       "      <td>NaT</td>\n",
       "      <td>NaT</td>\n",
       "      <td>NaN</td>\n",
       "      <td>NaN</td>\n",
       "      <td>NaN</td>\n",
       "      <td>NaN</td>\n",
       "      <td>NaN</td>\n",
       "      <td>left_only</td>\n",
       "    </tr>\n",
       "    <tr>\n",
       "      <th>4</th>\n",
       "      <td>5</td>\n",
       "      <td>Tann</td>\n",
       "      <td>Bama</td>\n",
       "      <td>1962-05-01 19:12:58.949547</td>\n",
       "      <td>Male</td>\n",
       "      <td>White</td>\n",
       "      <td>English</td>\n",
       "      <td>587.00</td>\n",
       "      <td>2018-01-01</td>\n",
       "      <td>2018-01-05 05:47:04.932834</td>\n",
       "      <td>Home</td>\n",
       "      <td>General Medicine</td>\n",
       "      <td>Flu</td>\n",
       "      <td>3.76</td>\n",
       "      <td>0.31</td>\n",
       "      <td>both</td>\n",
       "    </tr>\n",
       "  </tbody>\n",
       "</table>\n",
       "</div>"
      ],
      "text/plain": [
       "   PatientID FirstName LastName                DateOfBirth Gender   Race  \\\n",
       "0          1     Lanni      Sue 1960-01-01 00:00:00.000000   Male  White   \n",
       "1          2       Far    Myers 1985-11-15 02:08:42.089852   Male  White   \n",
       "2          3   Devlin   Michael 1976-04-15 02:52:09.762384   Male  White   \n",
       "3          4   Carmine    Texas 1968-10-15 03:32:13.634776   Male  White   \n",
       "4          5     Tann      Bama 1962-05-01 19:12:58.949547   Male  White   \n",
       "\n",
       "  Language  AdmissionID AdmissionDate              DischargeDate  \\\n",
       "0  English       389.00    2018-01-01 2018-01-04 19:59:31.390889   \n",
       "1  English       635.00    2018-01-01 2018-01-04 21:28:51.897839   \n",
       "2  English       606.00    2018-01-01 2018-01-04 22:28:23.672392   \n",
       "3  English          NaN           NaT                        NaT   \n",
       "4  English       587.00    2018-01-01 2018-01-05 05:47:04.932834   \n",
       "\n",
       "  DischargeDisposition           Service PrimaryDiagnosis  ExpectedLOS  \\\n",
       "0                 Home       Hospitalist   Kidney Failure         6.72   \n",
       "1                 Home  General Medicine              Flu         3.83   \n",
       "2                 Home  General Medicine              Flu         3.38   \n",
       "3                  NaN               NaN              NaN          NaN   \n",
       "4                 Home  General Medicine              Flu         3.76   \n",
       "\n",
       "   ExpectedMortality     _merge  \n",
       "0               0.01       both  \n",
       "1               0.60       both  \n",
       "2               0.27       both  \n",
       "3                NaN  left_only  \n",
       "4               0.31       both  "
      ]
     },
     "execution_count": 174,
     "metadata": {},
     "output_type": "execute_result"
    }
   ],
   "source": [
    "\"\"\"Indicator Flag :adds a column to the output DataFrame called \"_merge\" with\n",
    "     information on the source of each row. The column can be given a different\n",
    "    name by providing a string argument. The column will have a Categorical\n",
    "    type with the value of \"left_only\" for observations whose merge key only\n",
    "     appears in the left DataFrame, \"right_only\" for observations\n",
    "     whose merge key only appears in the right DataFrame, and \"both\"\n",
    "     if the observation's merge key is found in both DataFrames.\"\"\"\n",
    "\n",
    "merge_df1=pd.merge(Patients_df,Discharges_df,on=\"PatientID\",how=\"left\",indicator=True)\n",
    "merge_df1.head()"
   ]
  },
  {
   "cell_type": "markdown",
   "id": "artistic-serbia",
   "metadata": {},
   "source": [
    "### Q3:Loop through rows of a data frame to find the last names of patient."
   ]
  },
  {
   "cell_type": "code",
   "execution_count": 115,
   "id": "going-maria",
   "metadata": {},
   "outputs": [
    {
     "name": "stdout",
     "output_type": "stream",
     "text": [
      "Texas\n",
      "Steuhlmeyer\n"
     ]
    }
   ],
   "source": [
    "# Loop through rows of a data frame to find the last names of patient.\n",
    "for (index, row) in Patients_df.iterrows():\n",
    "    if row.FirstName == \"Carmine\":\n",
    "        print(row.LastName)"
   ]
  },
  {
   "cell_type": "markdown",
   "id": "hybrid-exercise",
   "metadata": {},
   "source": [
    "### Q4:details for patient who has maximum pulse (AmbalatoryVisits table)"
   ]
  },
  {
   "cell_type": "code",
   "execution_count": 175,
   "id": "advised-strategy",
   "metadata": {},
   "outputs": [
    {
     "name": "stdout",
     "output_type": "stream",
     "text": [
      "99.98646314\n"
     ]
    },
    {
     "data": {
      "text/plain": [
       "6"
      ]
     },
     "execution_count": 175,
     "metadata": {},
     "output_type": "execute_result"
    }
   ],
   "source": [
    "print(AmbulatoryVisits_df['Pulse'].max())\n",
    "AmbulatoryVisits_df['VisitDepartmentID'].loc[AmbulatoryVisits_df['Pulse'].idxmax()]"
   ]
  },
  {
   "cell_type": "code",
   "execution_count": 176,
   "id": "realistic-boulder",
   "metadata": {},
   "outputs": [
    {
     "data": {
      "text/plain": [
       "VisitID                                          174\n",
       "PatientMRN                                       812\n",
       "ProviderID                                        22\n",
       "DateofVisit                      2019-02-19 00:00:00\n",
       "DateScheduled             2019-01-31 21:32:02.485196\n",
       "VisitDepartmentID                                  6\n",
       "VisitType                                  Follow Up\n",
       "BloodPressureSystolic                          182.0\n",
       "BloodPressureDiastolic                         115.9\n",
       "Pulse                                          99.99\n",
       "VisitStatus                                Completed\n",
       "Name: 495, dtype: object"
      ]
     },
     "execution_count": 176,
     "metadata": {},
     "output_type": "execute_result"
    }
   ],
   "source": [
    "AmbulatoryVisits_df.loc[AmbulatoryVisits_df['Pulse'].idxmax()]"
   ]
  },
  {
   "cell_type": "markdown",
   "id": "grave-concord",
   "metadata": {},
   "source": [
    "### Q5.Which reason of visit has maximum mortality rate"
   ]
  },
  {
   "cell_type": "markdown",
   "id": "funky-distributor",
   "metadata": {},
   "source": [
    "### Q6: Searching for patterns in Text using Regular Expressions"
   ]
  },
  {
   "cell_type": "code",
   "execution_count": 123,
   "id": "smooth-dispatch",
   "metadata": {},
   "outputs": [
    {
     "name": "stdout",
     "output_type": "stream",
     "text": [
      "Searching for \"term1\" in:\n",
      " \"This is a string with term1, but it does not have the other term.\"\n",
      "\n",
      "Match was found. \n",
      "\n",
      "Searching for \"term2\" in:\n",
      " \"This is a string with term1, but it does not have the other term.\"\n",
      "\n",
      "No Match was found.\n",
      "\n"
     ]
    }
   ],
   "source": [
    "import re\n",
    "\n",
    "# List of patterns to search for\n",
    "patterns = ['term1', 'term2']\n",
    "\n",
    "# Text to parse\n",
    "text = 'This is a string with term1, but it does not have the other term.'\n",
    "\n",
    "for pattern in patterns:\n",
    "    print('Searching for \"%s\" in:\\n \"%s\"\\n' %(pattern,text))\n",
    "    \n",
    "    #Check for match\n",
    "    if re.search(pattern,text):\n",
    "        print('Match was found. \\n')\n",
    "    else:\n",
    "        print('No Match was found.\\n')"
   ]
  },
  {
   "cell_type": "markdown",
   "id": "sealed-aruba",
   "metadata": {},
   "source": [
    "### Q7:Calling multiple columns from a dataframe"
   ]
  },
  {
   "cell_type": "code",
   "execution_count": 23,
   "id": "combined-lender",
   "metadata": {},
   "outputs": [
    {
     "data": {
      "text/html": [
       "<div>\n",
       "<style scoped>\n",
       "    .dataframe tbody tr th:only-of-type {\n",
       "        vertical-align: middle;\n",
       "    }\n",
       "\n",
       "    .dataframe tbody tr th {\n",
       "        vertical-align: top;\n",
       "    }\n",
       "\n",
       "    .dataframe thead th {\n",
       "        text-align: right;\n",
       "    }\n",
       "</style>\n",
       "<table border=\"1\" class=\"dataframe\">\n",
       "  <thead>\n",
       "    <tr style=\"text-align: right;\">\n",
       "      <th></th>\n",
       "      <th>FirstName</th>\n",
       "      <th>LastName</th>\n",
       "    </tr>\n",
       "  </thead>\n",
       "  <tbody>\n",
       "    <tr>\n",
       "      <th>0</th>\n",
       "      <td>Lanni</td>\n",
       "      <td>Sue</td>\n",
       "    </tr>\n",
       "    <tr>\n",
       "      <th>1</th>\n",
       "      <td>Far</td>\n",
       "      <td>Myers</td>\n",
       "    </tr>\n",
       "    <tr>\n",
       "      <th>2</th>\n",
       "      <td>Devlin</td>\n",
       "      <td>Michael</td>\n",
       "    </tr>\n",
       "    <tr>\n",
       "      <th>3</th>\n",
       "      <td>Carmine</td>\n",
       "      <td>Texas</td>\n",
       "    </tr>\n",
       "    <tr>\n",
       "      <th>4</th>\n",
       "      <td>Tann</td>\n",
       "      <td>Bama</td>\n",
       "    </tr>\n",
       "    <tr>\n",
       "      <th>...</th>\n",
       "      <td>...</td>\n",
       "      <td>...</td>\n",
       "    </tr>\n",
       "    <tr>\n",
       "      <th>940</th>\n",
       "      <td>Wat</td>\n",
       "      <td>Fideler</td>\n",
       "    </tr>\n",
       "    <tr>\n",
       "      <th>941</th>\n",
       "      <td>Wandie</td>\n",
       "      <td>Baythrop</td>\n",
       "    </tr>\n",
       "    <tr>\n",
       "      <th>942</th>\n",
       "      <td>Diahann</td>\n",
       "      <td>Smeeton</td>\n",
       "    </tr>\n",
       "    <tr>\n",
       "      <th>943</th>\n",
       "      <td>Panchito</td>\n",
       "      <td>Sharple</td>\n",
       "    </tr>\n",
       "    <tr>\n",
       "      <th>944</th>\n",
       "      <td>Walsh</td>\n",
       "      <td>Calvie</td>\n",
       "    </tr>\n",
       "  </tbody>\n",
       "</table>\n",
       "<p>945 rows × 2 columns</p>\n",
       "</div>"
      ],
      "text/plain": [
       "    FirstName  LastName\n",
       "0       Lanni       Sue\n",
       "1         Far     Myers\n",
       "2     Devlin    Michael\n",
       "3     Carmine     Texas\n",
       "4       Tann       Bama\n",
       "..        ...       ...\n",
       "940       Wat   Fideler\n",
       "941    Wandie  Baythrop\n",
       "942   Diahann   Smeeton\n",
       "943  Panchito   Sharple\n",
       "944     Walsh    Calvie\n",
       "\n",
       "[945 rows x 2 columns]"
      ]
     },
     "execution_count": 23,
     "metadata": {},
     "output_type": "execute_result"
    }
   ],
   "source": [
    "from pandas import DataFrame\n",
    "DataFrame(Patients_df,columns=['FirstName','LastName'])"
   ]
  },
  {
   "cell_type": "markdown",
   "id": "prospective-infrared",
   "metadata": {},
   "source": [
    "### Q8:Calling Index"
   ]
  },
  {
   "cell_type": "code",
   "execution_count": 27,
   "id": "arabic-farming",
   "metadata": {},
   "outputs": [
    {
     "data": {
      "text/plain": [
       "PatientID                               4\n",
       "FirstName                         Carmine\n",
       "LastName                            Texas\n",
       "DateOfBirth    1968-10-15 03:32:13.634776\n",
       "Gender                               Male\n",
       "Race                                White\n",
       "Language                          English\n",
       "Name: 3, dtype: object"
      ]
     },
     "execution_count": 27,
     "metadata": {},
     "output_type": "execute_result"
    }
   ],
   "source": [
    "Patients_df.loc[3]"
   ]
  },
  {
   "cell_type": "markdown",
   "id": "entertaining-excuse",
   "metadata": {},
   "source": [
    "### Q9:For full list of ways to create DataFrames from various sources go to the documentation for pandas:"
   ]
  },
  {
   "cell_type": "code",
   "execution_count": 28,
   "id": "chicken-guest",
   "metadata": {},
   "outputs": [
    {
     "data": {
      "text/plain": [
       "True"
      ]
     },
     "execution_count": 28,
     "metadata": {},
     "output_type": "execute_result"
    }
   ],
   "source": [
    "import webbrowser\n",
    "website = 'http://pandas.pydata.org/pandas-docs/dev/generated/pandas.DataFrame.html'\n",
    "webbrowser.open(website)"
   ]
  },
  {
   "cell_type": "markdown",
   "id": "qualified-merchandise",
   "metadata": {},
   "source": [
    "### Q10: cross-tablulation (basically a special case of pivot-tables)"
   ]
  },
  {
   "cell_type": "code",
   "execution_count": 33,
   "id": "following-orientation",
   "metadata": {},
   "outputs": [
    {
     "data": {
      "text/html": [
       "<div>\n",
       "<style scoped>\n",
       "    .dataframe tbody tr th:only-of-type {\n",
       "        vertical-align: middle;\n",
       "    }\n",
       "\n",
       "    .dataframe tbody tr th {\n",
       "        vertical-align: top;\n",
       "    }\n",
       "\n",
       "    .dataframe thead th {\n",
       "        text-align: right;\n",
       "    }\n",
       "</style>\n",
       "<table border=\"1\" class=\"dataframe\">\n",
       "  <thead>\n",
       "    <tr style=\"text-align: right;\">\n",
       "      <th>PrimaryDiagnosis</th>\n",
       "      <th>AMI</th>\n",
       "      <th>Afib</th>\n",
       "      <th>Broken Leg</th>\n",
       "      <th>Diabetes</th>\n",
       "      <th>Fever</th>\n",
       "      <th>Flu</th>\n",
       "      <th>Heart Failure</th>\n",
       "      <th>Hip Fracture</th>\n",
       "      <th>Hypertension</th>\n",
       "      <th>Kidney Failure</th>\n",
       "      <th>Knee Replacement</th>\n",
       "      <th>Laceration</th>\n",
       "      <th>Migraine</th>\n",
       "      <th>Pain</th>\n",
       "      <th>Pneumonia</th>\n",
       "      <th>Spinal Cord Injury</th>\n",
       "      <th>Stroke</th>\n",
       "      <th>All</th>\n",
       "    </tr>\n",
       "    <tr>\n",
       "      <th>ReasonForVisit</th>\n",
       "      <th></th>\n",
       "      <th></th>\n",
       "      <th></th>\n",
       "      <th></th>\n",
       "      <th></th>\n",
       "      <th></th>\n",
       "      <th></th>\n",
       "      <th></th>\n",
       "      <th></th>\n",
       "      <th></th>\n",
       "      <th></th>\n",
       "      <th></th>\n",
       "      <th></th>\n",
       "      <th></th>\n",
       "      <th></th>\n",
       "      <th></th>\n",
       "      <th></th>\n",
       "      <th></th>\n",
       "    </tr>\n",
       "  </thead>\n",
       "  <tbody>\n",
       "    <tr>\n",
       "      <th>Accident</th>\n",
       "      <td>1</td>\n",
       "      <td>0</td>\n",
       "      <td>0</td>\n",
       "      <td>3</td>\n",
       "      <td>0</td>\n",
       "      <td>2</td>\n",
       "      <td>4</td>\n",
       "      <td>1</td>\n",
       "      <td>2</td>\n",
       "      <td>0</td>\n",
       "      <td>0</td>\n",
       "      <td>0</td>\n",
       "      <td>0</td>\n",
       "      <td>0</td>\n",
       "      <td>10</td>\n",
       "      <td>1</td>\n",
       "      <td>2</td>\n",
       "      <td>26</td>\n",
       "    </tr>\n",
       "    <tr>\n",
       "      <th>Bleeding</th>\n",
       "      <td>2</td>\n",
       "      <td>1</td>\n",
       "      <td>0</td>\n",
       "      <td>5</td>\n",
       "      <td>0</td>\n",
       "      <td>3</td>\n",
       "      <td>2</td>\n",
       "      <td>1</td>\n",
       "      <td>0</td>\n",
       "      <td>1</td>\n",
       "      <td>0</td>\n",
       "      <td>0</td>\n",
       "      <td>0</td>\n",
       "      <td>1</td>\n",
       "      <td>3</td>\n",
       "      <td>0</td>\n",
       "      <td>2</td>\n",
       "      <td>21</td>\n",
       "    </tr>\n",
       "    <tr>\n",
       "      <th>Car Accident</th>\n",
       "      <td>0</td>\n",
       "      <td>0</td>\n",
       "      <td>0</td>\n",
       "      <td>1</td>\n",
       "      <td>0</td>\n",
       "      <td>1</td>\n",
       "      <td>5</td>\n",
       "      <td>0</td>\n",
       "      <td>1</td>\n",
       "      <td>0</td>\n",
       "      <td>0</td>\n",
       "      <td>0</td>\n",
       "      <td>0</td>\n",
       "      <td>0</td>\n",
       "      <td>3</td>\n",
       "      <td>0</td>\n",
       "      <td>2</td>\n",
       "      <td>13</td>\n",
       "    </tr>\n",
       "    <tr>\n",
       "      <th>Chest Pain</th>\n",
       "      <td>4</td>\n",
       "      <td>1</td>\n",
       "      <td>2</td>\n",
       "      <td>6</td>\n",
       "      <td>0</td>\n",
       "      <td>5</td>\n",
       "      <td>14</td>\n",
       "      <td>1</td>\n",
       "      <td>5</td>\n",
       "      <td>4</td>\n",
       "      <td>2</td>\n",
       "      <td>2</td>\n",
       "      <td>0</td>\n",
       "      <td>0</td>\n",
       "      <td>19</td>\n",
       "      <td>0</td>\n",
       "      <td>9</td>\n",
       "      <td>74</td>\n",
       "    </tr>\n",
       "    <tr>\n",
       "      <th>Fever</th>\n",
       "      <td>9</td>\n",
       "      <td>4</td>\n",
       "      <td>3</td>\n",
       "      <td>9</td>\n",
       "      <td>4</td>\n",
       "      <td>14</td>\n",
       "      <td>13</td>\n",
       "      <td>5</td>\n",
       "      <td>10</td>\n",
       "      <td>3</td>\n",
       "      <td>5</td>\n",
       "      <td>5</td>\n",
       "      <td>5</td>\n",
       "      <td>0</td>\n",
       "      <td>26</td>\n",
       "      <td>0</td>\n",
       "      <td>12</td>\n",
       "      <td>127</td>\n",
       "    </tr>\n",
       "    <tr>\n",
       "      <th>Gun Shot</th>\n",
       "      <td>0</td>\n",
       "      <td>0</td>\n",
       "      <td>0</td>\n",
       "      <td>2</td>\n",
       "      <td>0</td>\n",
       "      <td>2</td>\n",
       "      <td>1</td>\n",
       "      <td>0</td>\n",
       "      <td>2</td>\n",
       "      <td>1</td>\n",
       "      <td>0</td>\n",
       "      <td>1</td>\n",
       "      <td>0</td>\n",
       "      <td>0</td>\n",
       "      <td>4</td>\n",
       "      <td>0</td>\n",
       "      <td>0</td>\n",
       "      <td>13</td>\n",
       "    </tr>\n",
       "    <tr>\n",
       "      <th>Intoxication</th>\n",
       "      <td>1</td>\n",
       "      <td>0</td>\n",
       "      <td>0</td>\n",
       "      <td>1</td>\n",
       "      <td>2</td>\n",
       "      <td>0</td>\n",
       "      <td>2</td>\n",
       "      <td>2</td>\n",
       "      <td>0</td>\n",
       "      <td>0</td>\n",
       "      <td>1</td>\n",
       "      <td>1</td>\n",
       "      <td>0</td>\n",
       "      <td>0</td>\n",
       "      <td>3</td>\n",
       "      <td>0</td>\n",
       "      <td>4</td>\n",
       "      <td>17</td>\n",
       "    </tr>\n",
       "    <tr>\n",
       "      <th>Laceration</th>\n",
       "      <td>0</td>\n",
       "      <td>0</td>\n",
       "      <td>0</td>\n",
       "      <td>1</td>\n",
       "      <td>1</td>\n",
       "      <td>3</td>\n",
       "      <td>2</td>\n",
       "      <td>1</td>\n",
       "      <td>1</td>\n",
       "      <td>2</td>\n",
       "      <td>0</td>\n",
       "      <td>2</td>\n",
       "      <td>1</td>\n",
       "      <td>0</td>\n",
       "      <td>2</td>\n",
       "      <td>0</td>\n",
       "      <td>1</td>\n",
       "      <td>17</td>\n",
       "    </tr>\n",
       "    <tr>\n",
       "      <th>Migraine</th>\n",
       "      <td>9</td>\n",
       "      <td>0</td>\n",
       "      <td>1</td>\n",
       "      <td>7</td>\n",
       "      <td>1</td>\n",
       "      <td>12</td>\n",
       "      <td>7</td>\n",
       "      <td>3</td>\n",
       "      <td>6</td>\n",
       "      <td>3</td>\n",
       "      <td>8</td>\n",
       "      <td>6</td>\n",
       "      <td>0</td>\n",
       "      <td>1</td>\n",
       "      <td>17</td>\n",
       "      <td>0</td>\n",
       "      <td>7</td>\n",
       "      <td>88</td>\n",
       "    </tr>\n",
       "    <tr>\n",
       "      <th>Pneumonia</th>\n",
       "      <td>9</td>\n",
       "      <td>2</td>\n",
       "      <td>1</td>\n",
       "      <td>7</td>\n",
       "      <td>7</td>\n",
       "      <td>17</td>\n",
       "      <td>15</td>\n",
       "      <td>3</td>\n",
       "      <td>10</td>\n",
       "      <td>3</td>\n",
       "      <td>2</td>\n",
       "      <td>3</td>\n",
       "      <td>2</td>\n",
       "      <td>2</td>\n",
       "      <td>33</td>\n",
       "      <td>1</td>\n",
       "      <td>13</td>\n",
       "      <td>130</td>\n",
       "    </tr>\n",
       "    <tr>\n",
       "      <th>Shortness of Breath</th>\n",
       "      <td>8</td>\n",
       "      <td>0</td>\n",
       "      <td>0</td>\n",
       "      <td>10</td>\n",
       "      <td>1</td>\n",
       "      <td>10</td>\n",
       "      <td>6</td>\n",
       "      <td>2</td>\n",
       "      <td>7</td>\n",
       "      <td>1</td>\n",
       "      <td>2</td>\n",
       "      <td>6</td>\n",
       "      <td>1</td>\n",
       "      <td>1</td>\n",
       "      <td>30</td>\n",
       "      <td>0</td>\n",
       "      <td>9</td>\n",
       "      <td>94</td>\n",
       "    </tr>\n",
       "    <tr>\n",
       "      <th>Stomach Ache</th>\n",
       "      <td>5</td>\n",
       "      <td>3</td>\n",
       "      <td>2</td>\n",
       "      <td>12</td>\n",
       "      <td>3</td>\n",
       "      <td>11</td>\n",
       "      <td>7</td>\n",
       "      <td>4</td>\n",
       "      <td>6</td>\n",
       "      <td>2</td>\n",
       "      <td>3</td>\n",
       "      <td>3</td>\n",
       "      <td>3</td>\n",
       "      <td>2</td>\n",
       "      <td>27</td>\n",
       "      <td>0</td>\n",
       "      <td>7</td>\n",
       "      <td>100</td>\n",
       "    </tr>\n",
       "    <tr>\n",
       "      <th>All</th>\n",
       "      <td>48</td>\n",
       "      <td>11</td>\n",
       "      <td>9</td>\n",
       "      <td>64</td>\n",
       "      <td>19</td>\n",
       "      <td>80</td>\n",
       "      <td>78</td>\n",
       "      <td>23</td>\n",
       "      <td>50</td>\n",
       "      <td>20</td>\n",
       "      <td>23</td>\n",
       "      <td>29</td>\n",
       "      <td>12</td>\n",
       "      <td>7</td>\n",
       "      <td>177</td>\n",
       "      <td>2</td>\n",
       "      <td>68</td>\n",
       "      <td>720</td>\n",
       "    </tr>\n",
       "  </tbody>\n",
       "</table>\n",
       "</div>"
      ],
      "text/plain": [
       "PrimaryDiagnosis     AMI  Afib  Broken Leg  Diabetes  Fever  Flu  \\\n",
       "ReasonForVisit                                                     \n",
       "Accident               1     0           0         3      0    2   \n",
       "Bleeding               2     1           0         5      0    3   \n",
       "Car Accident           0     0           0         1      0    1   \n",
       "Chest Pain             4     1           2         6      0    5   \n",
       "Fever                  9     4           3         9      4   14   \n",
       "Gun Shot               0     0           0         2      0    2   \n",
       "Intoxication           1     0           0         1      2    0   \n",
       "Laceration             0     0           0         1      1    3   \n",
       "Migraine               9     0           1         7      1   12   \n",
       "Pneumonia              9     2           1         7      7   17   \n",
       "Shortness of Breath    8     0           0        10      1   10   \n",
       "Stomach Ache           5     3           2        12      3   11   \n",
       "All                   48    11           9        64     19   80   \n",
       "\n",
       "PrimaryDiagnosis     Heart Failure  Hip Fracture  Hypertension  \\\n",
       "ReasonForVisit                                                   \n",
       "Accident                         4             1             2   \n",
       "Bleeding                         2             1             0   \n",
       "Car Accident                     5             0             1   \n",
       "Chest Pain                      14             1             5   \n",
       "Fever                           13             5            10   \n",
       "Gun Shot                         1             0             2   \n",
       "Intoxication                     2             2             0   \n",
       "Laceration                       2             1             1   \n",
       "Migraine                         7             3             6   \n",
       "Pneumonia                       15             3            10   \n",
       "Shortness of Breath              6             2             7   \n",
       "Stomach Ache                     7             4             6   \n",
       "All                             78            23            50   \n",
       "\n",
       "PrimaryDiagnosis     Kidney Failure  Knee Replacement  Laceration  Migraine  \\\n",
       "ReasonForVisit                                                                \n",
       "Accident                          0                 0           0         0   \n",
       "Bleeding                          1                 0           0         0   \n",
       "Car Accident                      0                 0           0         0   \n",
       "Chest Pain                        4                 2           2         0   \n",
       "Fever                             3                 5           5         5   \n",
       "Gun Shot                          1                 0           1         0   \n",
       "Intoxication                      0                 1           1         0   \n",
       "Laceration                        2                 0           2         1   \n",
       "Migraine                          3                 8           6         0   \n",
       "Pneumonia                         3                 2           3         2   \n",
       "Shortness of Breath               1                 2           6         1   \n",
       "Stomach Ache                      2                 3           3         3   \n",
       "All                              20                23          29        12   \n",
       "\n",
       "PrimaryDiagnosis     Pain  Pneumonia  Spinal Cord Injury  Stroke  All  \n",
       "ReasonForVisit                                                         \n",
       "Accident                0         10                   1       2   26  \n",
       "Bleeding                1          3                   0       2   21  \n",
       "Car Accident            0          3                   0       2   13  \n",
       "Chest Pain              0         19                   0       9   74  \n",
       "Fever                   0         26                   0      12  127  \n",
       "Gun Shot                0          4                   0       0   13  \n",
       "Intoxication            0          3                   0       4   17  \n",
       "Laceration              0          2                   0       1   17  \n",
       "Migraine                1         17                   0       7   88  \n",
       "Pneumonia               2         33                   1      13  130  \n",
       "Shortness of Breath     1         30                   0       9   94  \n",
       "Stomach Ache            2         27                   0       7  100  \n",
       "All                     7        177                   2      68  720  "
      ]
     },
     "execution_count": 33,
     "metadata": {},
     "output_type": "execute_result"
    }
   ],
   "source": [
    "# Now we can create a cross-tabulation table, which is basically just a frequency table\n",
    "ED_Dis = pd.merge(EDUnique_df, Discharges_df, how=\"inner\",on= ['PatientID'])\n",
    "pd.crosstab(ED_Dis.ReasonForVisit,ED_Dis.PrimaryDiagnosis,margins=True)"
   ]
  },
  {
   "cell_type": "markdown",
   "id": "available-interest",
   "metadata": {},
   "source": [
    "### Q11. Data Agrregation consists of operations that result in a scalar (e.g. mean(),sum(),count(), etc)"
   ]
  },
  {
   "cell_type": "code",
   "execution_count": 27,
   "id": "canadian-bosnia",
   "metadata": {},
   "outputs": [],
   "source": [
    "ED_Dis = pd.merge(EDUnique_df, Discharges_df, how=\"inner\",on= ['PatientID'])\n",
    "#ED_Dis\n",
    "ED_DS_col=ED_Dis[['Acuity','ExpectedLOS','ExpectedMortality']]"
   ]
  },
  {
   "cell_type": "code",
   "execution_count": 28,
   "id": "military-sierra",
   "metadata": {},
   "outputs": [
    {
     "data": {
      "text/html": [
       "<div>\n",
       "<style scoped>\n",
       "    .dataframe tbody tr th:only-of-type {\n",
       "        vertical-align: middle;\n",
       "    }\n",
       "\n",
       "    .dataframe tbody tr th {\n",
       "        vertical-align: top;\n",
       "    }\n",
       "\n",
       "    .dataframe thead tr th {\n",
       "        text-align: left;\n",
       "    }\n",
       "\n",
       "    .dataframe thead tr:last-of-type th {\n",
       "        text-align: right;\n",
       "    }\n",
       "</style>\n",
       "<table border=\"1\" class=\"dataframe\">\n",
       "  <thead>\n",
       "    <tr>\n",
       "      <th></th>\n",
       "      <th colspan=\"8\" halign=\"left\">ExpectedLOS</th>\n",
       "      <th colspan=\"8\" halign=\"left\">ExpectedMortality</th>\n",
       "    </tr>\n",
       "    <tr>\n",
       "      <th></th>\n",
       "      <th>count</th>\n",
       "      <th>mean</th>\n",
       "      <th>std</th>\n",
       "      <th>min</th>\n",
       "      <th>25%</th>\n",
       "      <th>50%</th>\n",
       "      <th>75%</th>\n",
       "      <th>max</th>\n",
       "      <th>count</th>\n",
       "      <th>mean</th>\n",
       "      <th>std</th>\n",
       "      <th>min</th>\n",
       "      <th>25%</th>\n",
       "      <th>50%</th>\n",
       "      <th>75%</th>\n",
       "      <th>max</th>\n",
       "    </tr>\n",
       "    <tr>\n",
       "      <th>Acuity</th>\n",
       "      <th></th>\n",
       "      <th></th>\n",
       "      <th></th>\n",
       "      <th></th>\n",
       "      <th></th>\n",
       "      <th></th>\n",
       "      <th></th>\n",
       "      <th></th>\n",
       "      <th></th>\n",
       "      <th></th>\n",
       "      <th></th>\n",
       "      <th></th>\n",
       "      <th></th>\n",
       "      <th></th>\n",
       "      <th></th>\n",
       "      <th></th>\n",
       "    </tr>\n",
       "  </thead>\n",
       "  <tbody>\n",
       "    <tr>\n",
       "      <th>1.0</th>\n",
       "      <td>315.0</td>\n",
       "      <td>8.585416</td>\n",
       "      <td>4.017682</td>\n",
       "      <td>2.012974</td>\n",
       "      <td>4.804806</td>\n",
       "      <td>8.454551</td>\n",
       "      <td>11.875306</td>\n",
       "      <td>16.998213</td>\n",
       "      <td>315.0</td>\n",
       "      <td>0.331946</td>\n",
       "      <td>0.238709</td>\n",
       "      <td>0.000006</td>\n",
       "      <td>0.136607</td>\n",
       "      <td>0.288694</td>\n",
       "      <td>0.493611</td>\n",
       "      <td>0.980886</td>\n",
       "    </tr>\n",
       "    <tr>\n",
       "      <th>2.0</th>\n",
       "      <td>105.0</td>\n",
       "      <td>9.206928</td>\n",
       "      <td>3.768281</td>\n",
       "      <td>2.255705</td>\n",
       "      <td>6.179944</td>\n",
       "      <td>9.589547</td>\n",
       "      <td>12.275702</td>\n",
       "      <td>16.306983</td>\n",
       "      <td>105.0</td>\n",
       "      <td>0.329204</td>\n",
       "      <td>0.231661</td>\n",
       "      <td>0.003276</td>\n",
       "      <td>0.129200</td>\n",
       "      <td>0.277359</td>\n",
       "      <td>0.511591</td>\n",
       "      <td>0.920635</td>\n",
       "    </tr>\n",
       "    <tr>\n",
       "      <th>3.0</th>\n",
       "      <td>57.0</td>\n",
       "      <td>8.718132</td>\n",
       "      <td>4.143377</td>\n",
       "      <td>2.113955</td>\n",
       "      <td>4.980881</td>\n",
       "      <td>9.115077</td>\n",
       "      <td>11.447056</td>\n",
       "      <td>16.472257</td>\n",
       "      <td>57.0</td>\n",
       "      <td>0.348660</td>\n",
       "      <td>0.234065</td>\n",
       "      <td>0.027630</td>\n",
       "      <td>0.120415</td>\n",
       "      <td>0.339072</td>\n",
       "      <td>0.528969</td>\n",
       "      <td>0.927417</td>\n",
       "    </tr>\n",
       "    <tr>\n",
       "      <th>4.0</th>\n",
       "      <td>92.0</td>\n",
       "      <td>8.723305</td>\n",
       "      <td>4.042890</td>\n",
       "      <td>2.066409</td>\n",
       "      <td>5.791651</td>\n",
       "      <td>8.278707</td>\n",
       "      <td>11.414540</td>\n",
       "      <td>16.851937</td>\n",
       "      <td>92.0</td>\n",
       "      <td>0.340164</td>\n",
       "      <td>0.241645</td>\n",
       "      <td>0.013965</td>\n",
       "      <td>0.151843</td>\n",
       "      <td>0.312911</td>\n",
       "      <td>0.459556</td>\n",
       "      <td>0.989945</td>\n",
       "    </tr>\n",
       "    <tr>\n",
       "      <th>5.0</th>\n",
       "      <td>151.0</td>\n",
       "      <td>9.159557</td>\n",
       "      <td>4.208608</td>\n",
       "      <td>2.102909</td>\n",
       "      <td>5.512412</td>\n",
       "      <td>9.400155</td>\n",
       "      <td>12.545226</td>\n",
       "      <td>16.785926</td>\n",
       "      <td>151.0</td>\n",
       "      <td>0.351704</td>\n",
       "      <td>0.246499</td>\n",
       "      <td>0.003621</td>\n",
       "      <td>0.151260</td>\n",
       "      <td>0.307602</td>\n",
       "      <td>0.465582</td>\n",
       "      <td>0.980479</td>\n",
       "    </tr>\n",
       "  </tbody>\n",
       "</table>\n",
       "</div>"
      ],
      "text/plain": [
       "       ExpectedLOS                                                    \\\n",
       "             count      mean       std       min       25%       50%   \n",
       "Acuity                                                                 \n",
       "1.0          315.0  8.585416  4.017682  2.012974  4.804806  8.454551   \n",
       "2.0          105.0  9.206928  3.768281  2.255705  6.179944  9.589547   \n",
       "3.0           57.0  8.718132  4.143377  2.113955  4.980881  9.115077   \n",
       "4.0           92.0  8.723305  4.042890  2.066409  5.791651  8.278707   \n",
       "5.0          151.0  9.159557  4.208608  2.102909  5.512412  9.400155   \n",
       "\n",
       "                             ExpectedMortality                                \\\n",
       "              75%        max             count      mean       std       min   \n",
       "Acuity                                                                         \n",
       "1.0     11.875306  16.998213             315.0  0.331946  0.238709  0.000006   \n",
       "2.0     12.275702  16.306983             105.0  0.329204  0.231661  0.003276   \n",
       "3.0     11.447056  16.472257              57.0  0.348660  0.234065  0.027630   \n",
       "4.0     11.414540  16.851937              92.0  0.340164  0.241645  0.013965   \n",
       "5.0     12.545226  16.785926             151.0  0.351704  0.246499  0.003621   \n",
       "\n",
       "                                                \n",
       "             25%       50%       75%       max  \n",
       "Acuity                                          \n",
       "1.0     0.136607  0.288694  0.493611  0.980886  \n",
       "2.0     0.129200  0.277359  0.511591  0.920635  \n",
       "3.0     0.120415  0.339072  0.528969  0.927417  \n",
       "4.0     0.151843  0.312911  0.459556  0.989945  \n",
       "5.0     0.151260  0.307602  0.465582  0.980479  "
      ]
     },
     "execution_count": 28,
     "metadata": {},
     "output_type": "execute_result"
    }
   ],
   "source": [
    "def max_to_min(arr):\n",
    "    return arr.max() - arr.min()\n",
    "\n",
    "# Let's group the ExpectedLOS by Acuity\n",
    "new_ED_Dis = ED_DS_col.groupby('Acuity')\n",
    "\n",
    "# Show\n",
    "new_ED_Dis.describe()"
   ]
  },
  {
   "cell_type": "code",
   "execution_count": 29,
   "id": "distinguished-great",
   "metadata": {},
   "outputs": [
    {
     "data": {
      "text/html": [
       "<div>\n",
       "<style scoped>\n",
       "    .dataframe tbody tr th:only-of-type {\n",
       "        vertical-align: middle;\n",
       "    }\n",
       "\n",
       "    .dataframe tbody tr th {\n",
       "        vertical-align: top;\n",
       "    }\n",
       "\n",
       "    .dataframe thead th {\n",
       "        text-align: right;\n",
       "    }\n",
       "</style>\n",
       "<table border=\"1\" class=\"dataframe\">\n",
       "  <thead>\n",
       "    <tr style=\"text-align: right;\">\n",
       "      <th></th>\n",
       "      <th>ExpectedLOS</th>\n",
       "      <th>ExpectedMortality</th>\n",
       "    </tr>\n",
       "    <tr>\n",
       "      <th>Acuity</th>\n",
       "      <th></th>\n",
       "      <th></th>\n",
       "    </tr>\n",
       "  </thead>\n",
       "  <tbody>\n",
       "    <tr>\n",
       "      <th>1.0</th>\n",
       "      <td>14.985239</td>\n",
       "      <td>0.980880</td>\n",
       "    </tr>\n",
       "    <tr>\n",
       "      <th>2.0</th>\n",
       "      <td>14.051278</td>\n",
       "      <td>0.917359</td>\n",
       "    </tr>\n",
       "    <tr>\n",
       "      <th>3.0</th>\n",
       "      <td>14.358302</td>\n",
       "      <td>0.899787</td>\n",
       "    </tr>\n",
       "    <tr>\n",
       "      <th>4.0</th>\n",
       "      <td>14.785528</td>\n",
       "      <td>0.975980</td>\n",
       "    </tr>\n",
       "    <tr>\n",
       "      <th>5.0</th>\n",
       "      <td>14.683017</td>\n",
       "      <td>0.976858</td>\n",
       "    </tr>\n",
       "  </tbody>\n",
       "</table>\n",
       "</div>"
      ],
      "text/plain": [
       "        ExpectedLOS  ExpectedMortality\n",
       "Acuity                                \n",
       "1.0       14.985239           0.980880\n",
       "2.0       14.051278           0.917359\n",
       "3.0       14.358302           0.899787\n",
       "4.0       14.785528           0.975980\n",
       "5.0       14.683017           0.976858"
      ]
     },
     "execution_count": 29,
     "metadata": {},
     "output_type": "execute_result"
    }
   ],
   "source": [
    "# We can now apply our own aggregate function, this function takes the max value of the col and subtracts the min value of the col\n",
    "new_ED_Dis.agg(max_to_min)"
   ]
  },
  {
   "cell_type": "code",
   "execution_count": 30,
   "id": "opposed-canvas",
   "metadata": {},
   "outputs": [
    {
     "data": {
      "text/html": [
       "<div>\n",
       "<style scoped>\n",
       "    .dataframe tbody tr th:only-of-type {\n",
       "        vertical-align: middle;\n",
       "    }\n",
       "\n",
       "    .dataframe tbody tr th {\n",
       "        vertical-align: top;\n",
       "    }\n",
       "\n",
       "    .dataframe thead th {\n",
       "        text-align: right;\n",
       "    }\n",
       "</style>\n",
       "<table border=\"1\" class=\"dataframe\">\n",
       "  <thead>\n",
       "    <tr style=\"text-align: right;\">\n",
       "      <th></th>\n",
       "      <th>ExpectedLOS</th>\n",
       "      <th>ExpectedMortality</th>\n",
       "    </tr>\n",
       "    <tr>\n",
       "      <th>Acuity</th>\n",
       "      <th></th>\n",
       "      <th></th>\n",
       "    </tr>\n",
       "  </thead>\n",
       "  <tbody>\n",
       "    <tr>\n",
       "      <th>1.0</th>\n",
       "      <td>8.585416</td>\n",
       "      <td>0.331946</td>\n",
       "    </tr>\n",
       "    <tr>\n",
       "      <th>2.0</th>\n",
       "      <td>9.206928</td>\n",
       "      <td>0.329204</td>\n",
       "    </tr>\n",
       "    <tr>\n",
       "      <th>3.0</th>\n",
       "      <td>8.718132</td>\n",
       "      <td>0.348660</td>\n",
       "    </tr>\n",
       "    <tr>\n",
       "      <th>4.0</th>\n",
       "      <td>8.723305</td>\n",
       "      <td>0.340164</td>\n",
       "    </tr>\n",
       "    <tr>\n",
       "      <th>5.0</th>\n",
       "      <td>9.159557</td>\n",
       "      <td>0.351704</td>\n",
       "    </tr>\n",
       "  </tbody>\n",
       "</table>\n",
       "</div>"
      ],
      "text/plain": [
       "        ExpectedLOS  ExpectedMortality\n",
       "Acuity                                \n",
       "1.0        8.585416           0.331946\n",
       "2.0        9.206928           0.329204\n",
       "3.0        8.718132           0.348660\n",
       "4.0        8.723305           0.340164\n",
       "5.0        9.159557           0.351704"
      ]
     },
     "execution_count": 30,
     "metadata": {},
     "output_type": "execute_result"
    }
   ],
   "source": [
    "# We can also pass string methods through aggregate\n",
    "new_ED_Dis.agg('mean')"
   ]
  },
  {
   "cell_type": "code",
   "execution_count": 32,
   "id": "apparent-ground",
   "metadata": {},
   "outputs": [
    {
     "data": {
      "text/html": [
       "<div>\n",
       "<style scoped>\n",
       "    .dataframe tbody tr th:only-of-type {\n",
       "        vertical-align: middle;\n",
       "    }\n",
       "\n",
       "    .dataframe tbody tr th {\n",
       "        vertical-align: top;\n",
       "    }\n",
       "\n",
       "    .dataframe thead th {\n",
       "        text-align: right;\n",
       "    }\n",
       "</style>\n",
       "<table border=\"1\" class=\"dataframe\">\n",
       "  <thead>\n",
       "    <tr style=\"text-align: right;\">\n",
       "      <th></th>\n",
       "      <th>ExpectedLOS</th>\n",
       "      <th>ExpectedMortality</th>\n",
       "    </tr>\n",
       "    <tr>\n",
       "      <th>Acuity</th>\n",
       "      <th></th>\n",
       "      <th></th>\n",
       "    </tr>\n",
       "  </thead>\n",
       "  <tbody>\n",
       "    <tr>\n",
       "      <th>1.0</th>\n",
       "      <td>8.585416</td>\n",
       "      <td>0.331946</td>\n",
       "    </tr>\n",
       "    <tr>\n",
       "      <th>2.0</th>\n",
       "      <td>9.206928</td>\n",
       "      <td>0.329204</td>\n",
       "    </tr>\n",
       "    <tr>\n",
       "      <th>3.0</th>\n",
       "      <td>8.718132</td>\n",
       "      <td>0.348660</td>\n",
       "    </tr>\n",
       "    <tr>\n",
       "      <th>4.0</th>\n",
       "      <td>8.723305</td>\n",
       "      <td>0.340164</td>\n",
       "    </tr>\n",
       "    <tr>\n",
       "      <th>5.0</th>\n",
       "      <td>9.159557</td>\n",
       "      <td>0.351704</td>\n",
       "    </tr>\n",
       "  </tbody>\n",
       "</table>\n",
       "</div>"
      ],
      "text/plain": [
       "        ExpectedLOS  ExpectedMortality\n",
       "Acuity                                \n",
       "1.0        8.585416           0.331946\n",
       "2.0        9.206928           0.329204\n",
       "3.0        8.718132           0.348660\n",
       "4.0        8.723305           0.340164\n",
       "5.0        9.159557           0.351704"
      ]
     },
     "execution_count": 32,
     "metadata": {},
     "output_type": "execute_result"
    }
   ],
   "source": [
    "# Let's go back to the original dframe\n",
    "ED_DS_col.head()\n",
    "\n",
    "# WE can also use pivot tables instead of groupby\n",
    "\n",
    "# Pivot table of Acuity\n",
    "ED_DS_col.pivot_table(index=['Acuity'])"
   ]
  },
  {
   "cell_type": "code",
   "execution_count": 34,
   "id": "orange-livestock",
   "metadata": {},
   "outputs": [
    {
     "data": {
      "text/plain": [
       "<AxesSubplot:>"
      ]
     },
     "execution_count": 34,
     "metadata": {},
     "output_type": "execute_result"
    },
    {
     "data": {
      "image/png": "[encoded data removed]",
      "text/plain": [
       "<Figure size 432x288 with 1 Axes>"
      ]
     },
     "metadata": {
      "needs_background": "light"
     },
     "output_type": "display_data"
    }
   ],
   "source": [
    "ED_DS_col.boxplot()"
   ]
  },
  {
   "cell_type": "markdown",
   "id": "patent-property",
   "metadata": {},
   "source": [
    "### Q12.Working on the DateofVisit column on AmbulatoryVisits_df"
   ]
  },
  {
   "cell_type": "code",
   "execution_count": 44,
   "id": "recent-invitation",
   "metadata": {},
   "outputs": [
    {
     "data": {
      "text/plain": [
       "pandas._libs.tslibs.timestamps.Timestamp"
      ]
     },
     "execution_count": 44,
     "metadata": {},
     "output_type": "execute_result"
    }
   ],
   "source": [
    "type(AmbulatoryVisits_df['DateofVisit'][0])"
   ]
  },
  {
   "cell_type": "code",
   "execution_count": 52,
   "id": "coated-cleanup",
   "metadata": {},
   "outputs": [
    {
     "name": "stdout",
     "output_type": "stream",
     "text": [
      "<class 'pandas.core.frame.DataFrame'>\n",
      "RangeIndex: 950 entries, 0 to 949\n",
      "Data columns (total 11 columns):\n",
      " #   Column                  Non-Null Count  Dtype         \n",
      "---  ------                  --------------  -----         \n",
      " 0   VisitID                 950 non-null    int64         \n",
      " 1   PatientMRN              950 non-null    int64         \n",
      " 2   ProviderID              950 non-null    int64         \n",
      " 3   DateofVisit             950 non-null    datetime64[ns]\n",
      " 4   DateScheduled           950 non-null    datetime64[ns]\n",
      " 5   VisitDepartmentID       950 non-null    int64         \n",
      " 6   VisitType               950 non-null    object        \n",
      " 7   BloodPressureSystolic   826 non-null    float64       \n",
      " 8   BloodPressureDiastolic  826 non-null    float64       \n",
      " 9   Pulse                   826 non-null    float64       \n",
      " 10  VisitStatus             950 non-null    object        \n",
      "dtypes: datetime64[ns](2), float64(3), int64(4), object(2)\n",
      "memory usage: 81.8+ KB\n"
     ]
    }
   ],
   "source": [
    "AmbulatoryVisits_df.info()"
   ]
  },
  {
   "cell_type": "code",
   "execution_count": 45,
   "id": "rotary-likelihood",
   "metadata": {},
   "outputs": [
    {
     "data": {
      "text/plain": [
       "0     2019-03-19\n",
       "1     2019-03-19\n",
       "2     2019-04-02\n",
       "3     2019-03-03\n",
       "4     2019-03-16\n",
       "         ...    \n",
       "945   2019-03-27\n",
       "946   2019-03-12\n",
       "947   2019-05-03\n",
       "948   2019-02-09\n",
       "949   2019-03-04\n",
       "Name: DateofVisit, Length: 950, dtype: datetime64[ns]"
      ]
     },
     "execution_count": 45,
     "metadata": {},
     "output_type": "execute_result"
    }
   ],
   "source": [
    "AmbulatoryVisits_df['DateofVisit']"
   ]
  },
  {
   "cell_type": "markdown",
   "id": "golden-radar",
   "metadata": {},
   "source": [
    "##### Create a Checkpoint"
   ]
  },
  {
   "cell_type": "code",
   "execution_count": 70,
   "id": "beginning-wrist",
   "metadata": {},
   "outputs": [
    {
     "data": {
      "text/html": [
       "<div>\n",
       "<style scoped>\n",
       "    .dataframe tbody tr th:only-of-type {\n",
       "        vertical-align: middle;\n",
       "    }\n",
       "\n",
       "    .dataframe tbody tr th {\n",
       "        vertical-align: top;\n",
       "    }\n",
       "\n",
       "    .dataframe thead th {\n",
       "        text-align: right;\n",
       "    }\n",
       "</style>\n",
       "<table border=\"1\" class=\"dataframe\">\n",
       "  <thead>\n",
       "    <tr style=\"text-align: right;\">\n",
       "      <th></th>\n",
       "      <th>VisitID</th>\n",
       "      <th>PatientMRN</th>\n",
       "      <th>ProviderID</th>\n",
       "      <th>DateofVisit</th>\n",
       "      <th>DateScheduled</th>\n",
       "      <th>VisitDepartmentID</th>\n",
       "      <th>VisitType</th>\n",
       "      <th>BloodPressureSystolic</th>\n",
       "      <th>BloodPressureDiastolic</th>\n",
       "      <th>Pulse</th>\n",
       "      <th>VisitStatus</th>\n",
       "    </tr>\n",
       "  </thead>\n",
       "  <tbody>\n",
       "    <tr>\n",
       "      <th>0</th>\n",
       "      <td>202</td>\n",
       "      <td>840</td>\n",
       "      <td>29</td>\n",
       "      <td>2019-03-19</td>\n",
       "      <td>2019-03-13 07:59:24.000000</td>\n",
       "      <td>10</td>\n",
       "      <td>Physical</td>\n",
       "      <td>188.0</td>\n",
       "      <td>144.143427</td>\n",
       "      <td>83.044920</td>\n",
       "      <td>No Show</td>\n",
       "    </tr>\n",
       "    <tr>\n",
       "      <th>1</th>\n",
       "      <td>436</td>\n",
       "      <td>820</td>\n",
       "      <td>25</td>\n",
       "      <td>2019-03-19</td>\n",
       "      <td>2019-02-24 07:10:31.042525</td>\n",
       "      <td>3</td>\n",
       "      <td>Follow Up</td>\n",
       "      <td>179.0</td>\n",
       "      <td>118.876808</td>\n",
       "      <td>90.309544</td>\n",
       "      <td>No Show</td>\n",
       "    </tr>\n",
       "    <tr>\n",
       "      <th>2</th>\n",
       "      <td>794</td>\n",
       "      <td>879</td>\n",
       "      <td>30</td>\n",
       "      <td>2019-04-02</td>\n",
       "      <td>2019-03-19 01:41:55.656371</td>\n",
       "      <td>11</td>\n",
       "      <td>Telemedicine</td>\n",
       "      <td>133.0</td>\n",
       "      <td>98.749563</td>\n",
       "      <td>80.859776</td>\n",
       "      <td>No Show</td>\n",
       "    </tr>\n",
       "    <tr>\n",
       "      <th>3</th>\n",
       "      <td>799</td>\n",
       "      <td>884</td>\n",
       "      <td>37</td>\n",
       "      <td>2019-03-03</td>\n",
       "      <td>2019-02-25 01:25:39.695747</td>\n",
       "      <td>4</td>\n",
       "      <td>Telemedicine</td>\n",
       "      <td>132.0</td>\n",
       "      <td>98.001270</td>\n",
       "      <td>82.184737</td>\n",
       "      <td>No Show</td>\n",
       "    </tr>\n",
       "    <tr>\n",
       "      <th>4</th>\n",
       "      <td>515</td>\n",
       "      <td>32</td>\n",
       "      <td>26</td>\n",
       "      <td>2019-03-16</td>\n",
       "      <td>2019-02-20 06:44:59.616969</td>\n",
       "      <td>11</td>\n",
       "      <td>Telemedicine</td>\n",
       "      <td>131.0</td>\n",
       "      <td>85.115632</td>\n",
       "      <td>89.192362</td>\n",
       "      <td>No Show</td>\n",
       "    </tr>\n",
       "    <tr>\n",
       "      <th>...</th>\n",
       "      <td>...</td>\n",
       "      <td>...</td>\n",
       "      <td>...</td>\n",
       "      <td>...</td>\n",
       "      <td>...</td>\n",
       "      <td>...</td>\n",
       "      <td>...</td>\n",
       "      <td>...</td>\n",
       "      <td>...</td>\n",
       "      <td>...</td>\n",
       "      <td>...</td>\n",
       "    </tr>\n",
       "    <tr>\n",
       "      <th>945</th>\n",
       "      <td>788</td>\n",
       "      <td>873</td>\n",
       "      <td>1</td>\n",
       "      <td>2019-03-27</td>\n",
       "      <td>2019-03-10 17:19:48.263796</td>\n",
       "      <td>5</td>\n",
       "      <td>Telemedicine</td>\n",
       "      <td>187.0</td>\n",
       "      <td>126.695141</td>\n",
       "      <td>70.049167</td>\n",
       "      <td>Canceled</td>\n",
       "    </tr>\n",
       "    <tr>\n",
       "      <th>946</th>\n",
       "      <td>703</td>\n",
       "      <td>855</td>\n",
       "      <td>36</td>\n",
       "      <td>2019-03-12</td>\n",
       "      <td>2019-02-19 02:27:52.663861</td>\n",
       "      <td>10</td>\n",
       "      <td>Follow Up</td>\n",
       "      <td>182.0</td>\n",
       "      <td>140.703502</td>\n",
       "      <td>73.380812</td>\n",
       "      <td>Canceled</td>\n",
       "    </tr>\n",
       "    <tr>\n",
       "      <th>947</th>\n",
       "      <td>481</td>\n",
       "      <td>865</td>\n",
       "      <td>13</td>\n",
       "      <td>2019-05-03</td>\n",
       "      <td>2019-04-25 13:37:57.501334</td>\n",
       "      <td>12</td>\n",
       "      <td>New</td>\n",
       "      <td>150.0</td>\n",
       "      <td>84.841197</td>\n",
       "      <td>61.625454</td>\n",
       "      <td>Canceled</td>\n",
       "    </tr>\n",
       "    <tr>\n",
       "      <th>948</th>\n",
       "      <td>398</td>\n",
       "      <td>635</td>\n",
       "      <td>10</td>\n",
       "      <td>2019-02-09</td>\n",
       "      <td>2019-02-08 11:40:35.137141</td>\n",
       "      <td>1</td>\n",
       "      <td>Physical</td>\n",
       "      <td>177.0</td>\n",
       "      <td>125.037534</td>\n",
       "      <td>53.287036</td>\n",
       "      <td>Canceled</td>\n",
       "    </tr>\n",
       "    <tr>\n",
       "      <th>949</th>\n",
       "      <td>695</td>\n",
       "      <td>847</td>\n",
       "      <td>24</td>\n",
       "      <td>2019-03-04</td>\n",
       "      <td>2019-02-05 05:29:30.586995</td>\n",
       "      <td>12</td>\n",
       "      <td>Follow Up</td>\n",
       "      <td>165.0</td>\n",
       "      <td>116.879318</td>\n",
       "      <td>56.180317</td>\n",
       "      <td>Canceled</td>\n",
       "    </tr>\n",
       "  </tbody>\n",
       "</table>\n",
       "<p>950 rows × 11 columns</p>\n",
       "</div>"
      ],
      "text/plain": [
       "     VisitID  PatientMRN  ProviderID DateofVisit              DateScheduled  \\\n",
       "0        202         840          29  2019-03-19 2019-03-13 07:59:24.000000   \n",
       "1        436         820          25  2019-03-19 2019-02-24 07:10:31.042525   \n",
       "2        794         879          30  2019-04-02 2019-03-19 01:41:55.656371   \n",
       "3        799         884          37  2019-03-03 2019-02-25 01:25:39.695747   \n",
       "4        515          32          26  2019-03-16 2019-02-20 06:44:59.616969   \n",
       "..       ...         ...         ...         ...                        ...   \n",
       "945      788         873           1  2019-03-27 2019-03-10 17:19:48.263796   \n",
       "946      703         855          36  2019-03-12 2019-02-19 02:27:52.663861   \n",
       "947      481         865          13  2019-05-03 2019-04-25 13:37:57.501334   \n",
       "948      398         635          10  2019-02-09 2019-02-08 11:40:35.137141   \n",
       "949      695         847          24  2019-03-04 2019-02-05 05:29:30.586995   \n",
       "\n",
       "     VisitDepartmentID     VisitType  BloodPressureSystolic  \\\n",
       "0                   10      Physical                  188.0   \n",
       "1                    3     Follow Up                  179.0   \n",
       "2                   11  Telemedicine                  133.0   \n",
       "3                    4  Telemedicine                  132.0   \n",
       "4                   11  Telemedicine                  131.0   \n",
       "..                 ...           ...                    ...   \n",
       "945                  5  Telemedicine                  187.0   \n",
       "946                 10     Follow Up                  182.0   \n",
       "947                 12           New                  150.0   \n",
       "948                  1      Physical                  177.0   \n",
       "949                 12     Follow Up                  165.0   \n",
       "\n",
       "     BloodPressureDiastolic      Pulse VisitStatus  \n",
       "0                144.143427  83.044920     No Show  \n",
       "1                118.876808  90.309544     No Show  \n",
       "2                 98.749563  80.859776     No Show  \n",
       "3                 98.001270  82.184737     No Show  \n",
       "4                 85.115632  89.192362     No Show  \n",
       "..                      ...        ...         ...  \n",
       "945              126.695141  70.049167    Canceled  \n",
       "946              140.703502  73.380812    Canceled  \n",
       "947               84.841197  61.625454    Canceled  \n",
       "948              125.037534  53.287036    Canceled  \n",
       "949              116.879318  56.180317    Canceled  \n",
       "\n",
       "[950 rows x 11 columns]"
      ]
     },
     "execution_count": 70,
     "metadata": {},
     "output_type": "execute_result"
    }
   ],
   "source": [
    "df_AmbulatoryVisits =AmbulatoryVisits_df.copy()\n",
    "df_AmbulatoryVisits"
   ]
  },
  {
   "cell_type": "markdown",
   "id": "recreational-bunny",
   "metadata": {},
   "source": [
    "##### Extract the Month value and create Month value coumn"
   ]
  },
  {
   "cell_type": "code",
   "execution_count": 71,
   "id": "patient-alabama",
   "metadata": {},
   "outputs": [
    {
     "data": {
      "text/plain": [
       "Timestamp('2019-03-19 00:00:00')"
      ]
     },
     "execution_count": 71,
     "metadata": {},
     "output_type": "execute_result"
    }
   ],
   "source": [
    "df_AmbulatoryVisits['DateofVisit'][0]"
   ]
  },
  {
   "cell_type": "code",
   "execution_count": 64,
   "id": "fantastic-vertical",
   "metadata": {},
   "outputs": [
    {
     "data": {
      "text/plain": [
       "3"
      ]
     },
     "execution_count": 64,
     "metadata": {},
     "output_type": "execute_result"
    }
   ],
   "source": [
    "df_AmbulatoryVisits['DateofVisit'][0].month"
   ]
  },
  {
   "cell_type": "code",
   "execution_count": 72,
   "id": "integrated-terrorism",
   "metadata": {},
   "outputs": [
    {
     "data": {
      "text/plain": [
       "[]"
      ]
     },
     "execution_count": 72,
     "metadata": {},
     "output_type": "execute_result"
    }
   ],
   "source": [
    "# Creating empty list\n",
    "list_of_months = []\n",
    "list_of_months"
   ]
  },
  {
   "cell_type": "code",
   "execution_count": 73,
   "id": "combined-peter",
   "metadata": {},
   "outputs": [
    {
     "data": {
      "text/plain": [
       "(950, 11)"
      ]
     },
     "execution_count": 73,
     "metadata": {},
     "output_type": "execute_result"
    }
   ],
   "source": [
    "df_AmbulatoryVisits.shape"
   ]
  },
  {
   "cell_type": "code",
   "execution_count": 74,
   "id": "entire-austin",
   "metadata": {
    "collapsed": true
   },
   "outputs": [
    {
     "data": {
      "text/plain": [
       "[3,\n",
       " 3,\n",
       " 4,\n",
       " 3,\n",
       " 3,\n",
       " 3,\n",
       " 1,\n",
       " 3,\n",
       " 3,\n",
       " 4,\n",
       " 3,\n",
       " 3,\n",
       " 3,\n",
       " 3,\n",
       " 3,\n",
       " 1,\n",
       " 3,\n",
       " 3,\n",
       " 1,\n",
       " 3,\n",
       " 3,\n",
       " 3,\n",
       " 3,\n",
       " 3,\n",
       " 3,\n",
       " 2,\n",
       " 3,\n",
       " 4,\n",
       " 3,\n",
       " 3,\n",
       " 2,\n",
       " 1,\n",
       " 3,\n",
       " 3,\n",
       " 2,\n",
       " 1,\n",
       " 3,\n",
       " 2,\n",
       " 1,\n",
       " 3,\n",
       " 3,\n",
       " 3,\n",
       " 1,\n",
       " 4,\n",
       " 1,\n",
       " 1,\n",
       " 3,\n",
       " 4,\n",
       " 2,\n",
       " 3,\n",
       " 3,\n",
       " 3,\n",
       " 3,\n",
       " 3,\n",
       " 3,\n",
       " 3,\n",
       " 3,\n",
       " 1,\n",
       " 3,\n",
       " 3,\n",
       " 3,\n",
       " 3,\n",
       " 2,\n",
       " 3,\n",
       " 3,\n",
       " 3,\n",
       " 2,\n",
       " 1,\n",
       " 3,\n",
       " 3,\n",
       " 1,\n",
       " 2,\n",
       " 3,\n",
       " 1,\n",
       " 3,\n",
       " 3,\n",
       " 4,\n",
       " 3,\n",
       " 3,\n",
       " 1,\n",
       " 3,\n",
       " 3,\n",
       " 1,\n",
       " 3,\n",
       " 3,\n",
       " 3,\n",
       " 3,\n",
       " 3,\n",
       " 3,\n",
       " 3,\n",
       " 3,\n",
       " 3,\n",
       " 3,\n",
       " 3,\n",
       " 4,\n",
       " 3,\n",
       " 3,\n",
       " 3,\n",
       " 1,\n",
       " 3,\n",
       " 3,\n",
       " 4,\n",
       " 4,\n",
       " 3,\n",
       " 2,\n",
       " 3,\n",
       " 3,\n",
       " 3,\n",
       " 3,\n",
       " 3,\n",
       " 1,\n",
       " 3,\n",
       " 4,\n",
       " 4,\n",
       " 3,\n",
       " 3,\n",
       " 3,\n",
       " 3,\n",
       " 3,\n",
       " 3,\n",
       " 3,\n",
       " 3,\n",
       " 2,\n",
       " 4,\n",
       " 2,\n",
       " 3,\n",
       " 3,\n",
       " 3,\n",
       " 3,\n",
       " 3,\n",
       " 3,\n",
       " 4,\n",
       " 1,\n",
       " 3,\n",
       " 4,\n",
       " 3,\n",
       " 3,\n",
       " 3,\n",
       " 1,\n",
       " 3,\n",
       " 3,\n",
       " 1,\n",
       " 2,\n",
       " 1,\n",
       " 3,\n",
       " 3,\n",
       " 3,\n",
       " 2,\n",
       " 3,\n",
       " 2,\n",
       " 1,\n",
       " 2,\n",
       " 3,\n",
       " 1,\n",
       " 4,\n",
       " 4,\n",
       " 4,\n",
       " 4,\n",
       " 4,\n",
       " 2,\n",
       " 4,\n",
       " 1,\n",
       " 4,\n",
       " 3,\n",
       " 3,\n",
       " 3,\n",
       " 2,\n",
       " 4,\n",
       " 4,\n",
       " 4,\n",
       " 1,\n",
       " 2,\n",
       " 1,\n",
       " 3,\n",
       " 2,\n",
       " 2,\n",
       " 1,\n",
       " 4,\n",
       " 2,\n",
       " 4,\n",
       " 4,\n",
       " 3,\n",
       " 2,\n",
       " 1,\n",
       " 4,\n",
       " 2,\n",
       " 2,\n",
       " 3,\n",
       " 3,\n",
       " 4,\n",
       " 2,\n",
       " 2,\n",
       " 4,\n",
       " 2,\n",
       " 4,\n",
       " 3,\n",
       " 3,\n",
       " 3,\n",
       " 4,\n",
       " 2,\n",
       " 4,\n",
       " 5,\n",
       " 3,\n",
       " 4,\n",
       " 1,\n",
       " 3,\n",
       " 4,\n",
       " 4,\n",
       " 4,\n",
       " 4,\n",
       " 4,\n",
       " 2,\n",
       " 1,\n",
       " 4,\n",
       " 3,\n",
       " 3,\n",
       " 4,\n",
       " 2,\n",
       " 1,\n",
       " 1,\n",
       " 3,\n",
       " 1,\n",
       " 2,\n",
       " 2,\n",
       " 3,\n",
       " 4,\n",
       " 2,\n",
       " 1,\n",
       " 3,\n",
       " 1,\n",
       " 3,\n",
       " 4,\n",
       " 3,\n",
       " 1,\n",
       " 2,\n",
       " 1,\n",
       " 2,\n",
       " 3,\n",
       " 4,\n",
       " 3,\n",
       " 3,\n",
       " 3,\n",
       " 1,\n",
       " 3,\n",
       " 3,\n",
       " 2,\n",
       " 1,\n",
       " 2,\n",
       " 1,\n",
       " 4,\n",
       " 1,\n",
       " 3,\n",
       " 4,\n",
       " 1,\n",
       " 5,\n",
       " 2,\n",
       " 4,\n",
       " 2,\n",
       " 2,\n",
       " 3,\n",
       " 2,\n",
       " 2,\n",
       " 4,\n",
       " 5,\n",
       " 4,\n",
       " 2,\n",
       " 2,\n",
       " 4,\n",
       " 3,\n",
       " 2,\n",
       " 3,\n",
       " 2,\n",
       " 3,\n",
       " 3,\n",
       " 2,\n",
       " 3,\n",
       " 3,\n",
       " 2,\n",
       " 4,\n",
       " 2,\n",
       " 4,\n",
       " 1,\n",
       " 2,\n",
       " 4,\n",
       " 3,\n",
       " 4,\n",
       " 4,\n",
       " 2,\n",
       " 2,\n",
       " 2,\n",
       " 3,\n",
       " 4,\n",
       " 2,\n",
       " 3,\n",
       " 2,\n",
       " 5,\n",
       " 2,\n",
       " 3,\n",
       " 2,\n",
       " 1,\n",
       " 2,\n",
       " 3,\n",
       " 3,\n",
       " 4,\n",
       " 3,\n",
       " 2,\n",
       " 5,\n",
       " 2,\n",
       " 1,\n",
       " 1,\n",
       " 4,\n",
       " 1,\n",
       " 1,\n",
       " 2,\n",
       " 3,\n",
       " 2,\n",
       " 3,\n",
       " 2,\n",
       " 4,\n",
       " 1,\n",
       " 2,\n",
       " 4,\n",
       " 4,\n",
       " 4,\n",
       " 1,\n",
       " 3,\n",
       " 3,\n",
       " 2,\n",
       " 4,\n",
       " 2,\n",
       " 2,\n",
       " 3,\n",
       " 2,\n",
       " 3,\n",
       " 3,\n",
       " 1,\n",
       " 4,\n",
       " 3,\n",
       " 3,\n",
       " 3,\n",
       " 3,\n",
       " 2,\n",
       " 2,\n",
       " 2,\n",
       " 3,\n",
       " 1,\n",
       " 1,\n",
       " 2,\n",
       " 2,\n",
       " 4,\n",
       " 3,\n",
       " 4,\n",
       " 4,\n",
       " 3,\n",
       " 4,\n",
       " 5,\n",
       " 3,\n",
       " 3,\n",
       " 4,\n",
       " 4,\n",
       " 3,\n",
       " 2,\n",
       " 2,\n",
       " 3,\n",
       " 2,\n",
       " 4,\n",
       " 4,\n",
       " 3,\n",
       " 3,\n",
       " 4,\n",
       " 4,\n",
       " 3,\n",
       " 3,\n",
       " 4,\n",
       " 4,\n",
       " 4,\n",
       " 3,\n",
       " 2,\n",
       " 2,\n",
       " 2,\n",
       " 2,\n",
       " 3,\n",
       " 1,\n",
       " 4,\n",
       " 2,\n",
       " 1,\n",
       " 2,\n",
       " 3,\n",
       " 1,\n",
       " 3,\n",
       " 3,\n",
       " 3,\n",
       " 3,\n",
       " 2,\n",
       " 3,\n",
       " 3,\n",
       " 4,\n",
       " 4,\n",
       " 2,\n",
       " 1,\n",
       " 4,\n",
       " 3,\n",
       " 5,\n",
       " 3,\n",
       " 1,\n",
       " 1,\n",
       " 2,\n",
       " 2,\n",
       " 1,\n",
       " 2,\n",
       " 2,\n",
       " 3,\n",
       " 4,\n",
       " 2,\n",
       " 3,\n",
       " 2,\n",
       " 3,\n",
       " 3,\n",
       " 4,\n",
       " 2,\n",
       " 4,\n",
       " 5,\n",
       " 4,\n",
       " 4,\n",
       " 4,\n",
       " 5,\n",
       " 3,\n",
       " 5,\n",
       " 2,\n",
       " 1,\n",
       " 4,\n",
       " 4,\n",
       " 3,\n",
       " 4,\n",
       " 3,\n",
       " 3,\n",
       " 2,\n",
       " 2,\n",
       " 1,\n",
       " 3,\n",
       " 3,\n",
       " 3,\n",
       " 4,\n",
       " 1,\n",
       " 4,\n",
       " 3,\n",
       " 1,\n",
       " 1,\n",
       " 2,\n",
       " 2,\n",
       " 3,\n",
       " 2,\n",
       " 2,\n",
       " 3,\n",
       " 4,\n",
       " 2,\n",
       " 2,\n",
       " 4,\n",
       " 3,\n",
       " 1,\n",
       " 4,\n",
       " 4,\n",
       " 1,\n",
       " 2,\n",
       " 1,\n",
       " 4,\n",
       " 1,\n",
       " 3,\n",
       " 4,\n",
       " 3,\n",
       " 3,\n",
       " 1,\n",
       " 3,\n",
       " 5,\n",
       " 3,\n",
       " 3,\n",
       " 3,\n",
       " 3,\n",
       " 2,\n",
       " 4,\n",
       " 4,\n",
       " 2,\n",
       " 3,\n",
       " 3,\n",
       " 3,\n",
       " 3,\n",
       " 3,\n",
       " 1,\n",
       " 2,\n",
       " 4,\n",
       " 4,\n",
       " 3,\n",
       " 4,\n",
       " 3,\n",
       " 3,\n",
       " 2,\n",
       " 2,\n",
       " 3,\n",
       " 1,\n",
       " 2,\n",
       " 2,\n",
       " 4,\n",
       " 4,\n",
       " 2,\n",
       " 4,\n",
       " 4,\n",
       " 3,\n",
       " 3,\n",
       " 4,\n",
       " 2,\n",
       " 2,\n",
       " 4,\n",
       " 2,\n",
       " 3,\n",
       " 3,\n",
       " 1,\n",
       " 3,\n",
       " 5,\n",
       " 3,\n",
       " 3,\n",
       " 3,\n",
       " 3,\n",
       " 2,\n",
       " 4,\n",
       " 2,\n",
       " 2,\n",
       " 3,\n",
       " 1,\n",
       " 3,\n",
       " 2,\n",
       " 3,\n",
       " 1,\n",
       " 4,\n",
       " 2,\n",
       " 4,\n",
       " 2,\n",
       " 1,\n",
       " 4,\n",
       " 3,\n",
       " 4,\n",
       " 3,\n",
       " 2,\n",
       " 4,\n",
       " 2,\n",
       " 3,\n",
       " 2,\n",
       " 2,\n",
       " 4,\n",
       " 2,\n",
       " 4,\n",
       " 3,\n",
       " 4,\n",
       " 3,\n",
       " 1,\n",
       " 4,\n",
       " 4,\n",
       " 4,\n",
       " 2,\n",
       " 3,\n",
       " 2,\n",
       " 1,\n",
       " 2,\n",
       " 3,\n",
       " 2,\n",
       " 4,\n",
       " 3,\n",
       " 4,\n",
       " 2,\n",
       " 2,\n",
       " 3,\n",
       " 3,\n",
       " 2,\n",
       " 5,\n",
       " 3,\n",
       " 3,\n",
       " 3,\n",
       " 3,\n",
       " 1,\n",
       " 4,\n",
       " 2,\n",
       " 2,\n",
       " 3,\n",
       " 3,\n",
       " 2,\n",
       " 3,\n",
       " 4,\n",
       " 3,\n",
       " 3,\n",
       " 1,\n",
       " 1,\n",
       " 2,\n",
       " 3,\n",
       " 4,\n",
       " 2,\n",
       " 4,\n",
       " 4,\n",
       " 4,\n",
       " 3,\n",
       " 3,\n",
       " 5,\n",
       " 2,\n",
       " 4,\n",
       " 4,\n",
       " 5,\n",
       " 3,\n",
       " 2,\n",
       " 3,\n",
       " 4,\n",
       " 4,\n",
       " 3,\n",
       " 2,\n",
       " 4,\n",
       " 2,\n",
       " 3,\n",
       " 3,\n",
       " 2,\n",
       " 2,\n",
       " 3,\n",
       " 3,\n",
       " 3,\n",
       " 1,\n",
       " 4,\n",
       " 3,\n",
       " 4,\n",
       " 3,\n",
       " 3,\n",
       " 4,\n",
       " 2,\n",
       " 4,\n",
       " 2,\n",
       " 5,\n",
       " 4,\n",
       " 4,\n",
       " 3,\n",
       " 2,\n",
       " 2,\n",
       " 2,\n",
       " 5,\n",
       " 2,\n",
       " 1,\n",
       " 4,\n",
       " 4,\n",
       " 3,\n",
       " 3,\n",
       " 3,\n",
       " 4,\n",
       " 3,\n",
       " 3,\n",
       " 1,\n",
       " 3,\n",
       " 4,\n",
       " 5,\n",
       " 2,\n",
       " 3,\n",
       " 1,\n",
       " 3,\n",
       " 3,\n",
       " 4,\n",
       " 4,\n",
       " 2,\n",
       " 2,\n",
       " 4,\n",
       " 2,\n",
       " 2,\n",
       " 4,\n",
       " 4,\n",
       " 1,\n",
       " 2,\n",
       " 1,\n",
       " 4,\n",
       " 2,\n",
       " 3,\n",
       " 4,\n",
       " 2,\n",
       " 5,\n",
       " 3,\n",
       " 2,\n",
       " 2,\n",
       " 3,\n",
       " 3,\n",
       " 3,\n",
       " 3,\n",
       " 2,\n",
       " 4,\n",
       " 2,\n",
       " 2,\n",
       " 2,\n",
       " 2,\n",
       " 3,\n",
       " 3,\n",
       " 3,\n",
       " 5,\n",
       " 4,\n",
       " 3,\n",
       " 2,\n",
       " 4,\n",
       " 2,\n",
       " 4,\n",
       " 3,\n",
       " 3,\n",
       " 2,\n",
       " 1,\n",
       " 2,\n",
       " 3,\n",
       " 3,\n",
       " 4,\n",
       " 1,\n",
       " 3,\n",
       " 1,\n",
       " 3,\n",
       " 1,\n",
       " 2,\n",
       " 1,\n",
       " 2,\n",
       " 4,\n",
       " 4,\n",
       " 3,\n",
       " 3,\n",
       " 2,\n",
       " 4,\n",
       " 2,\n",
       " 2,\n",
       " 3,\n",
       " 4,\n",
       " 3,\n",
       " 2,\n",
       " 4,\n",
       " 3,\n",
       " 4,\n",
       " 2,\n",
       " 4,\n",
       " 3,\n",
       " 4,\n",
       " 3,\n",
       " 2,\n",
       " 3,\n",
       " 2,\n",
       " 3,\n",
       " 3,\n",
       " 2,\n",
       " 4,\n",
       " 5,\n",
       " 4,\n",
       " 4,\n",
       " 1,\n",
       " 2,\n",
       " 4,\n",
       " 2,\n",
       " 2,\n",
       " 4,\n",
       " 2,\n",
       " 2,\n",
       " 4,\n",
       " 2,\n",
       " 2,\n",
       " 4,\n",
       " 3,\n",
       " 2,\n",
       " 3,\n",
       " 4,\n",
       " 2,\n",
       " 4,\n",
       " 2,\n",
       " 4,\n",
       " 3,\n",
       " 5,\n",
       " 4,\n",
       " 4,\n",
       " 2,\n",
       " 1,\n",
       " 4,\n",
       " 5,\n",
       " 4,\n",
       " 2,\n",
       " 4,\n",
       " 2,\n",
       " 2,\n",
       " 4,\n",
       " 2,\n",
       " 2,\n",
       " 2,\n",
       " 4,\n",
       " 2,\n",
       " 2,\n",
       " 4,\n",
       " 3,\n",
       " 2,\n",
       " 4,\n",
       " 2,\n",
       " 3,\n",
       " 4,\n",
       " 3,\n",
       " 4,\n",
       " 1,\n",
       " 1,\n",
       " 4,\n",
       " 4,\n",
       " 4,\n",
       " 3,\n",
       " 3,\n",
       " 4,\n",
       " 2,\n",
       " 3,\n",
       " 3,\n",
       " 4,\n",
       " 2,\n",
       " 2,\n",
       " 4,\n",
       " 3,\n",
       " 4,\n",
       " 3,\n",
       " 1,\n",
       " 3,\n",
       " 4,\n",
       " 2,\n",
       " 1,\n",
       " 4,\n",
       " 2,\n",
       " 2,\n",
       " 3,\n",
       " 4,\n",
       " 4,\n",
       " 1,\n",
       " 3,\n",
       " 3,\n",
       " 3,\n",
       " 3,\n",
       " 3,\n",
       " 2,\n",
       " 4,\n",
       " 3,\n",
       " 2,\n",
       " 2,\n",
       " 2,\n",
       " 5,\n",
       " 4,\n",
       " 4,\n",
       " 4,\n",
       " 3,\n",
       " 1,\n",
       " 4,\n",
       " 4,\n",
       " 3,\n",
       " 2,\n",
       " 4,\n",
       " 4,\n",
       " 3,\n",
       " 4,\n",
       " 4,\n",
       " 1,\n",
       " 2,\n",
       " 3,\n",
       " 2,\n",
       " 2,\n",
       " 4,\n",
       " 4,\n",
       " 4,\n",
       " 3,\n",
       " 2,\n",
       " 4,\n",
       " 3,\n",
       " 3,\n",
       " 3,\n",
       " 4,\n",
       " 1,\n",
       " 2,\n",
       " 4,\n",
       " 1,\n",
       " 2,\n",
       " 3,\n",
       " 4,\n",
       " 3,\n",
       " 3,\n",
       " 3,\n",
       " 4,\n",
       " 3,\n",
       " 4,\n",
       " 3,\n",
       " 2,\n",
       " 2,\n",
       " 3,\n",
       " 3,\n",
       " 2,\n",
       " 4,\n",
       " 3,\n",
       " 4,\n",
       " 4,\n",
       " 4,\n",
       " 2,\n",
       " 4,\n",
       " 3,\n",
       " 2,\n",
       " 2,\n",
       " 3,\n",
       " 2,\n",
       " 2,\n",
       " 3,\n",
       " 2,\n",
       " 2,\n",
       " 3,\n",
       " 5,\n",
       " 3,\n",
       " 3,\n",
       " 1,\n",
       " 3,\n",
       " 3,\n",
       " 2,\n",
       " 2,\n",
       " 2,\n",
       " 2,\n",
       " 3,\n",
       " 3,\n",
       " 3,\n",
       " 1,\n",
       " 3,\n",
       " 3,\n",
       " 3,\n",
       " 3,\n",
       " 2,\n",
       " 5,\n",
       " 2,\n",
       " 2,\n",
       " 1,\n",
       " 1,\n",
       " 2,\n",
       " 3,\n",
       " 3,\n",
       " 1,\n",
       " 3,\n",
       " 3,\n",
       " 3,\n",
       " 3,\n",
       " 2,\n",
       " 3,\n",
       " 5,\n",
       " 3,\n",
       " 1,\n",
       " 2,\n",
       " 3,\n",
       " 1,\n",
       " 3,\n",
       " 2,\n",
       " 2,\n",
       " 2,\n",
       " 1,\n",
       " 3,\n",
       " 3,\n",
       " 5,\n",
       " 2,\n",
       " 3]"
      ]
     },
     "execution_count": 74,
     "metadata": {},
     "output_type": "execute_result"
    }
   ],
   "source": [
    "# iteratively extracting month values from the DateofVisit column(we have 950 rows in Dataset)\n",
    "for i in range(df_AmbulatoryVisits.shape[0]):\n",
    "    list_of_months.append(df_AmbulatoryVisits['DateofVisit'][i].month)\n",
    "list_of_months"
   ]
  },
  {
   "cell_type": "code",
   "execution_count": 75,
   "id": "together-speed",
   "metadata": {},
   "outputs": [
    {
     "data": {
      "text/plain": [
       "950"
      ]
     },
     "execution_count": 75,
     "metadata": {},
     "output_type": "execute_result"
    }
   ],
   "source": [
    "len(list_of_months)"
   ]
  },
  {
   "cell_type": "code",
   "execution_count": 76,
   "id": "weird-skiing",
   "metadata": {},
   "outputs": [],
   "source": [
    "# creating new column in our dataframe\n",
    "df_AmbulatoryVisits['Month Value']=list_of_months"
   ]
  },
  {
   "cell_type": "code",
   "execution_count": 77,
   "id": "duplicate-capacity",
   "metadata": {},
   "outputs": [
    {
     "data": {
      "text/html": [
       "<div>\n",
       "<style scoped>\n",
       "    .dataframe tbody tr th:only-of-type {\n",
       "        vertical-align: middle;\n",
       "    }\n",
       "\n",
       "    .dataframe tbody tr th {\n",
       "        vertical-align: top;\n",
       "    }\n",
       "\n",
       "    .dataframe thead th {\n",
       "        text-align: right;\n",
       "    }\n",
       "</style>\n",
       "<table border=\"1\" class=\"dataframe\">\n",
       "  <thead>\n",
       "    <tr style=\"text-align: right;\">\n",
       "      <th></th>\n",
       "      <th>VisitID</th>\n",
       "      <th>PatientMRN</th>\n",
       "      <th>ProviderID</th>\n",
       "      <th>DateofVisit</th>\n",
       "      <th>DateScheduled</th>\n",
       "      <th>VisitDepartmentID</th>\n",
       "      <th>VisitType</th>\n",
       "      <th>BloodPressureSystolic</th>\n",
       "      <th>BloodPressureDiastolic</th>\n",
       "      <th>Pulse</th>\n",
       "      <th>VisitStatus</th>\n",
       "      <th>Month Value</th>\n",
       "    </tr>\n",
       "  </thead>\n",
       "  <tbody>\n",
       "    <tr>\n",
       "      <th>0</th>\n",
       "      <td>202</td>\n",
       "      <td>840</td>\n",
       "      <td>29</td>\n",
       "      <td>2019-03-19</td>\n",
       "      <td>2019-03-13 07:59:24.000000</td>\n",
       "      <td>10</td>\n",
       "      <td>Physical</td>\n",
       "      <td>188.0</td>\n",
       "      <td>144.143427</td>\n",
       "      <td>83.044920</td>\n",
       "      <td>No Show</td>\n",
       "      <td>3</td>\n",
       "    </tr>\n",
       "    <tr>\n",
       "      <th>1</th>\n",
       "      <td>436</td>\n",
       "      <td>820</td>\n",
       "      <td>25</td>\n",
       "      <td>2019-03-19</td>\n",
       "      <td>2019-02-24 07:10:31.042525</td>\n",
       "      <td>3</td>\n",
       "      <td>Follow Up</td>\n",
       "      <td>179.0</td>\n",
       "      <td>118.876808</td>\n",
       "      <td>90.309544</td>\n",
       "      <td>No Show</td>\n",
       "      <td>3</td>\n",
       "    </tr>\n",
       "    <tr>\n",
       "      <th>2</th>\n",
       "      <td>794</td>\n",
       "      <td>879</td>\n",
       "      <td>30</td>\n",
       "      <td>2019-04-02</td>\n",
       "      <td>2019-03-19 01:41:55.656371</td>\n",
       "      <td>11</td>\n",
       "      <td>Telemedicine</td>\n",
       "      <td>133.0</td>\n",
       "      <td>98.749563</td>\n",
       "      <td>80.859776</td>\n",
       "      <td>No Show</td>\n",
       "      <td>4</td>\n",
       "    </tr>\n",
       "    <tr>\n",
       "      <th>3</th>\n",
       "      <td>799</td>\n",
       "      <td>884</td>\n",
       "      <td>37</td>\n",
       "      <td>2019-03-03</td>\n",
       "      <td>2019-02-25 01:25:39.695747</td>\n",
       "      <td>4</td>\n",
       "      <td>Telemedicine</td>\n",
       "      <td>132.0</td>\n",
       "      <td>98.001270</td>\n",
       "      <td>82.184737</td>\n",
       "      <td>No Show</td>\n",
       "      <td>3</td>\n",
       "    </tr>\n",
       "    <tr>\n",
       "      <th>4</th>\n",
       "      <td>515</td>\n",
       "      <td>32</td>\n",
       "      <td>26</td>\n",
       "      <td>2019-03-16</td>\n",
       "      <td>2019-02-20 06:44:59.616969</td>\n",
       "      <td>11</td>\n",
       "      <td>Telemedicine</td>\n",
       "      <td>131.0</td>\n",
       "      <td>85.115632</td>\n",
       "      <td>89.192362</td>\n",
       "      <td>No Show</td>\n",
       "      <td>3</td>\n",
       "    </tr>\n",
       "  </tbody>\n",
       "</table>\n",
       "</div>"
      ],
      "text/plain": [
       "   VisitID  PatientMRN  ProviderID DateofVisit              DateScheduled  \\\n",
       "0      202         840          29  2019-03-19 2019-03-13 07:59:24.000000   \n",
       "1      436         820          25  2019-03-19 2019-02-24 07:10:31.042525   \n",
       "2      794         879          30  2019-04-02 2019-03-19 01:41:55.656371   \n",
       "3      799         884          37  2019-03-03 2019-02-25 01:25:39.695747   \n",
       "4      515          32          26  2019-03-16 2019-02-20 06:44:59.616969   \n",
       "\n",
       "   VisitDepartmentID     VisitType  BloodPressureSystolic  \\\n",
       "0                 10      Physical                  188.0   \n",
       "1                  3     Follow Up                  179.0   \n",
       "2                 11  Telemedicine                  133.0   \n",
       "3                  4  Telemedicine                  132.0   \n",
       "4                 11  Telemedicine                  131.0   \n",
       "\n",
       "   BloodPressureDiastolic      Pulse VisitStatus  Month Value  \n",
       "0              144.143427  83.044920     No Show            3  \n",
       "1              118.876808  90.309544     No Show            3  \n",
       "2               98.749563  80.859776     No Show            4  \n",
       "3               98.001270  82.184737     No Show            3  \n",
       "4               85.115632  89.192362     No Show            3  "
      ]
     },
     "execution_count": 77,
     "metadata": {},
     "output_type": "execute_result"
    }
   ],
   "source": [
    "df_AmbulatoryVisits.head()"
   ]
  },
  {
   "cell_type": "markdown",
   "id": "second-dominant",
   "metadata": {},
   "source": [
    "#### Extract the Day of the week and create "
   ]
  },
  {
   "cell_type": "code",
   "execution_count": 87,
   "id": "chief-appendix",
   "metadata": {},
   "outputs": [
    {
     "data": {
      "text/plain": [
       "Timestamp('2019-03-04 00:00:00')"
      ]
     },
     "execution_count": 87,
     "metadata": {},
     "output_type": "execute_result"
    }
   ],
   "source": [
    "df_AmbulatoryVisits['DateofVisit'][949]"
   ]
  },
  {
   "cell_type": "code",
   "execution_count": 88,
   "id": "fantastic-deadline",
   "metadata": {},
   "outputs": [
    {
     "data": {
      "text/plain": [
       "0"
      ]
     },
     "execution_count": 88,
     "metadata": {},
     "output_type": "execute_result"
    }
   ],
   "source": [
    "# 4th march of 2019 is sunday\n",
    "df_AmbulatoryVisits['DateofVisit'][949].weekday()"
   ]
  },
  {
   "cell_type": "code",
   "execution_count": 92,
   "id": "reasonable-jerusalem",
   "metadata": {},
   "outputs": [],
   "source": [
    "def date_to_weekday(date_value):\n",
    "    return date_value.weekday()"
   ]
  },
  {
   "cell_type": "code",
   "execution_count": 94,
   "id": "employed-grave",
   "metadata": {},
   "outputs": [],
   "source": [
    "df_AmbulatoryVisits['Day of the week']=df_AmbulatoryVisits['DateofVisit'].apply(date_to_weekday)"
   ]
  },
  {
   "cell_type": "code",
   "execution_count": 95,
   "id": "modified-chair",
   "metadata": {},
   "outputs": [
    {
     "data": {
      "text/html": [
       "<div>\n",
       "<style scoped>\n",
       "    .dataframe tbody tr th:only-of-type {\n",
       "        vertical-align: middle;\n",
       "    }\n",
       "\n",
       "    .dataframe tbody tr th {\n",
       "        vertical-align: top;\n",
       "    }\n",
       "\n",
       "    .dataframe thead th {\n",
       "        text-align: right;\n",
       "    }\n",
       "</style>\n",
       "<table border=\"1\" class=\"dataframe\">\n",
       "  <thead>\n",
       "    <tr style=\"text-align: right;\">\n",
       "      <th></th>\n",
       "      <th>VisitID</th>\n",
       "      <th>PatientMRN</th>\n",
       "      <th>ProviderID</th>\n",
       "      <th>DateofVisit</th>\n",
       "      <th>DateScheduled</th>\n",
       "      <th>VisitDepartmentID</th>\n",
       "      <th>VisitType</th>\n",
       "      <th>BloodPressureSystolic</th>\n",
       "      <th>BloodPressureDiastolic</th>\n",
       "      <th>Pulse</th>\n",
       "      <th>VisitStatus</th>\n",
       "      <th>Month Value</th>\n",
       "      <th>Day of the week</th>\n",
       "    </tr>\n",
       "  </thead>\n",
       "  <tbody>\n",
       "    <tr>\n",
       "      <th>0</th>\n",
       "      <td>202</td>\n",
       "      <td>840</td>\n",
       "      <td>29</td>\n",
       "      <td>2019-03-19</td>\n",
       "      <td>2019-03-13 07:59:24.000000</td>\n",
       "      <td>10</td>\n",
       "      <td>Physical</td>\n",
       "      <td>188.0</td>\n",
       "      <td>144.143427</td>\n",
       "      <td>83.044920</td>\n",
       "      <td>No Show</td>\n",
       "      <td>3</td>\n",
       "      <td>1</td>\n",
       "    </tr>\n",
       "    <tr>\n",
       "      <th>1</th>\n",
       "      <td>436</td>\n",
       "      <td>820</td>\n",
       "      <td>25</td>\n",
       "      <td>2019-03-19</td>\n",
       "      <td>2019-02-24 07:10:31.042525</td>\n",
       "      <td>3</td>\n",
       "      <td>Follow Up</td>\n",
       "      <td>179.0</td>\n",
       "      <td>118.876808</td>\n",
       "      <td>90.309544</td>\n",
       "      <td>No Show</td>\n",
       "      <td>3</td>\n",
       "      <td>1</td>\n",
       "    </tr>\n",
       "    <tr>\n",
       "      <th>2</th>\n",
       "      <td>794</td>\n",
       "      <td>879</td>\n",
       "      <td>30</td>\n",
       "      <td>2019-04-02</td>\n",
       "      <td>2019-03-19 01:41:55.656371</td>\n",
       "      <td>11</td>\n",
       "      <td>Telemedicine</td>\n",
       "      <td>133.0</td>\n",
       "      <td>98.749563</td>\n",
       "      <td>80.859776</td>\n",
       "      <td>No Show</td>\n",
       "      <td>4</td>\n",
       "      <td>1</td>\n",
       "    </tr>\n",
       "    <tr>\n",
       "      <th>3</th>\n",
       "      <td>799</td>\n",
       "      <td>884</td>\n",
       "      <td>37</td>\n",
       "      <td>2019-03-03</td>\n",
       "      <td>2019-02-25 01:25:39.695747</td>\n",
       "      <td>4</td>\n",
       "      <td>Telemedicine</td>\n",
       "      <td>132.0</td>\n",
       "      <td>98.001270</td>\n",
       "      <td>82.184737</td>\n",
       "      <td>No Show</td>\n",
       "      <td>3</td>\n",
       "      <td>6</td>\n",
       "    </tr>\n",
       "    <tr>\n",
       "      <th>4</th>\n",
       "      <td>515</td>\n",
       "      <td>32</td>\n",
       "      <td>26</td>\n",
       "      <td>2019-03-16</td>\n",
       "      <td>2019-02-20 06:44:59.616969</td>\n",
       "      <td>11</td>\n",
       "      <td>Telemedicine</td>\n",
       "      <td>131.0</td>\n",
       "      <td>85.115632</td>\n",
       "      <td>89.192362</td>\n",
       "      <td>No Show</td>\n",
       "      <td>3</td>\n",
       "      <td>5</td>\n",
       "    </tr>\n",
       "    <tr>\n",
       "      <th>...</th>\n",
       "      <td>...</td>\n",
       "      <td>...</td>\n",
       "      <td>...</td>\n",
       "      <td>...</td>\n",
       "      <td>...</td>\n",
       "      <td>...</td>\n",
       "      <td>...</td>\n",
       "      <td>...</td>\n",
       "      <td>...</td>\n",
       "      <td>...</td>\n",
       "      <td>...</td>\n",
       "      <td>...</td>\n",
       "      <td>...</td>\n",
       "    </tr>\n",
       "    <tr>\n",
       "      <th>945</th>\n",
       "      <td>788</td>\n",
       "      <td>873</td>\n",
       "      <td>1</td>\n",
       "      <td>2019-03-27</td>\n",
       "      <td>2019-03-10 17:19:48.263796</td>\n",
       "      <td>5</td>\n",
       "      <td>Telemedicine</td>\n",
       "      <td>187.0</td>\n",
       "      <td>126.695141</td>\n",
       "      <td>70.049167</td>\n",
       "      <td>Canceled</td>\n",
       "      <td>3</td>\n",
       "      <td>2</td>\n",
       "    </tr>\n",
       "    <tr>\n",
       "      <th>946</th>\n",
       "      <td>703</td>\n",
       "      <td>855</td>\n",
       "      <td>36</td>\n",
       "      <td>2019-03-12</td>\n",
       "      <td>2019-02-19 02:27:52.663861</td>\n",
       "      <td>10</td>\n",
       "      <td>Follow Up</td>\n",
       "      <td>182.0</td>\n",
       "      <td>140.703502</td>\n",
       "      <td>73.380812</td>\n",
       "      <td>Canceled</td>\n",
       "      <td>3</td>\n",
       "      <td>1</td>\n",
       "    </tr>\n",
       "    <tr>\n",
       "      <th>947</th>\n",
       "      <td>481</td>\n",
       "      <td>865</td>\n",
       "      <td>13</td>\n",
       "      <td>2019-05-03</td>\n",
       "      <td>2019-04-25 13:37:57.501334</td>\n",
       "      <td>12</td>\n",
       "      <td>New</td>\n",
       "      <td>150.0</td>\n",
       "      <td>84.841197</td>\n",
       "      <td>61.625454</td>\n",
       "      <td>Canceled</td>\n",
       "      <td>5</td>\n",
       "      <td>4</td>\n",
       "    </tr>\n",
       "    <tr>\n",
       "      <th>948</th>\n",
       "      <td>398</td>\n",
       "      <td>635</td>\n",
       "      <td>10</td>\n",
       "      <td>2019-02-09</td>\n",
       "      <td>2019-02-08 11:40:35.137141</td>\n",
       "      <td>1</td>\n",
       "      <td>Physical</td>\n",
       "      <td>177.0</td>\n",
       "      <td>125.037534</td>\n",
       "      <td>53.287036</td>\n",
       "      <td>Canceled</td>\n",
       "      <td>2</td>\n",
       "      <td>5</td>\n",
       "    </tr>\n",
       "    <tr>\n",
       "      <th>949</th>\n",
       "      <td>695</td>\n",
       "      <td>847</td>\n",
       "      <td>24</td>\n",
       "      <td>2019-03-04</td>\n",
       "      <td>2019-02-05 05:29:30.586995</td>\n",
       "      <td>12</td>\n",
       "      <td>Follow Up</td>\n",
       "      <td>165.0</td>\n",
       "      <td>116.879318</td>\n",
       "      <td>56.180317</td>\n",
       "      <td>Canceled</td>\n",
       "      <td>3</td>\n",
       "      <td>0</td>\n",
       "    </tr>\n",
       "  </tbody>\n",
       "</table>\n",
       "<p>950 rows × 13 columns</p>\n",
       "</div>"
      ],
      "text/plain": [
       "     VisitID  PatientMRN  ProviderID DateofVisit              DateScheduled  \\\n",
       "0        202         840          29  2019-03-19 2019-03-13 07:59:24.000000   \n",
       "1        436         820          25  2019-03-19 2019-02-24 07:10:31.042525   \n",
       "2        794         879          30  2019-04-02 2019-03-19 01:41:55.656371   \n",
       "3        799         884          37  2019-03-03 2019-02-25 01:25:39.695747   \n",
       "4        515          32          26  2019-03-16 2019-02-20 06:44:59.616969   \n",
       "..       ...         ...         ...         ...                        ...   \n",
       "945      788         873           1  2019-03-27 2019-03-10 17:19:48.263796   \n",
       "946      703         855          36  2019-03-12 2019-02-19 02:27:52.663861   \n",
       "947      481         865          13  2019-05-03 2019-04-25 13:37:57.501334   \n",
       "948      398         635          10  2019-02-09 2019-02-08 11:40:35.137141   \n",
       "949      695         847          24  2019-03-04 2019-02-05 05:29:30.586995   \n",
       "\n",
       "     VisitDepartmentID     VisitType  BloodPressureSystolic  \\\n",
       "0                   10      Physical                  188.0   \n",
       "1                    3     Follow Up                  179.0   \n",
       "2                   11  Telemedicine                  133.0   \n",
       "3                    4  Telemedicine                  132.0   \n",
       "4                   11  Telemedicine                  131.0   \n",
       "..                 ...           ...                    ...   \n",
       "945                  5  Telemedicine                  187.0   \n",
       "946                 10     Follow Up                  182.0   \n",
       "947                 12           New                  150.0   \n",
       "948                  1      Physical                  177.0   \n",
       "949                 12     Follow Up                  165.0   \n",
       "\n",
       "     BloodPressureDiastolic      Pulse VisitStatus  Month Value  \\\n",
       "0                144.143427  83.044920     No Show            3   \n",
       "1                118.876808  90.309544     No Show            3   \n",
       "2                 98.749563  80.859776     No Show            4   \n",
       "3                 98.001270  82.184737     No Show            3   \n",
       "4                 85.115632  89.192362     No Show            3   \n",
       "..                      ...        ...         ...          ...   \n",
       "945              126.695141  70.049167    Canceled            3   \n",
       "946              140.703502  73.380812    Canceled            3   \n",
       "947               84.841197  61.625454    Canceled            5   \n",
       "948              125.037534  53.287036    Canceled            2   \n",
       "949              116.879318  56.180317    Canceled            3   \n",
       "\n",
       "     Day of the week  \n",
       "0                  1  \n",
       "1                  1  \n",
       "2                  1  \n",
       "3                  6  \n",
       "4                  5  \n",
       "..               ...  \n",
       "945                2  \n",
       "946                1  \n",
       "947                4  \n",
       "948                5  \n",
       "949                0  \n",
       "\n",
       "[950 rows x 13 columns]"
      ]
     },
     "execution_count": 95,
     "metadata": {},
     "output_type": "execute_result"
    }
   ],
   "source": [
    "df_AmbulatoryVisits"
   ]
  },
  {
   "cell_type": "markdown",
   "id": "sacred-queens",
   "metadata": {},
   "source": [
    "### Q13.Reverse the string without using inbuilt functions"
   ]
  },
  {
   "cell_type": "code",
   "execution_count": null,
   "id": "lucky-canyon",
   "metadata": {},
   "outputs": [],
   "source": [
    "#user-defined function\n",
    "def findReverse(string):\n",
    "   # find reverse of string\n",
    "   reverse = string[::-1]\n",
    "   return reverse\n",
    "\n",
    "# take inputs\n",
    "string = input('Enter the string: ')\n",
    "\n",
    "# calling function and display result\n",
    "reverse = findReverse(string)\n",
    "print('The reverse string is', reverse)"
   ]
  },
  {
   "cell_type": "code",
   "execution_count": null,
   "id": "reserved-nursing",
   "metadata": {},
   "outputs": [],
   "source": [
    "# x[::-1]  is used to reverse the string of the column in pandas along with the apply function as shown below\n",
    "\n",
    "Patients_df['First_Name'] = Patients_df.loc[:,'FirstName'].apply(lambda x: x[::-1])\n",
    "Patients_df.head()"
   ]
  },
  {
   "cell_type": "markdown",
   "id": "graduate-minutes",
   "metadata": {},
   "source": [
    "### Q14. Which PrimaryDiagnosis has the biggest difference between maximum and minimum Expected LOS?"
   ]
  },
  {
   "cell_type": "code",
   "execution_count": 127,
   "id": "natural-cooper",
   "metadata": {},
   "outputs": [
    {
     "data": {
      "text/plain": [
       "PrimaryDiagnosis\n",
       "Pneumonia    14.83426\n",
       "Name: ExpectedLOS, dtype: float64"
      ]
     },
     "execution_count": 127,
     "metadata": {},
     "output_type": "execute_result"
    }
   ],
   "source": [
    "PrimaryDiagnosis=ReAdmissionRegistry_df.groupby('PrimaryDiagnosis')['ExpectedLOS'].apply(lambda x: (x.max() - x.min()))\n",
    "PrimaryDiagnosis.nlargest(1)"
   ]
  },
  {
   "cell_type": "markdown",
   "id": "hydraulic-nightmare",
   "metadata": {},
   "source": [
    "### Q15. Displays Data Head (Top Rows) and Tail (Bottom Rows) of the Dataframe (Table) "
   ]
  },
  {
   "cell_type": "code",
   "execution_count": 131,
   "id": "billion-ghost",
   "metadata": {},
   "outputs": [
    {
     "data": {
      "text/plain": [
       "'Data Head & Tail :'"
      ]
     },
     "metadata": {},
     "output_type": "display_data"
    },
    {
     "data": {
      "text/html": [
       "<div>\n",
       "<style scoped>\n",
       "    .dataframe tbody tr th:only-of-type {\n",
       "        vertical-align: middle;\n",
       "    }\n",
       "\n",
       "    .dataframe tbody tr th {\n",
       "        vertical-align: top;\n",
       "    }\n",
       "\n",
       "    .dataframe thead th {\n",
       "        text-align: right;\n",
       "    }\n",
       "</style>\n",
       "<table border=\"1\" class=\"dataframe\">\n",
       "  <thead>\n",
       "    <tr style=\"text-align: right;\">\n",
       "      <th></th>\n",
       "      <th>AdmissionID</th>\n",
       "      <th>PatientID</th>\n",
       "      <th>AdmissionDate</th>\n",
       "      <th>DischargeDate</th>\n",
       "      <th>DischargeDisposition</th>\n",
       "      <th>Service</th>\n",
       "      <th>PrimaryDiagnosis</th>\n",
       "      <th>ExpectedLOS</th>\n",
       "      <th>ExpectedMortality</th>\n",
       "      <th>ReadmissionFlag</th>\n",
       "      <th>DaysToReadmission</th>\n",
       "      <th>EDVisitAfterDischargeFlag</th>\n",
       "    </tr>\n",
       "  </thead>\n",
       "  <tbody>\n",
       "    <tr>\n",
       "      <th>0</th>\n",
       "      <td>389</td>\n",
       "      <td>1</td>\n",
       "      <td>2018-01-01</td>\n",
       "      <td>2018-01-04 19:59:31.390889</td>\n",
       "      <td>Home</td>\n",
       "      <td>Hospitalist</td>\n",
       "      <td>Kidney Failure</td>\n",
       "      <td>6.717771</td>\n",
       "      <td>0.010046</td>\n",
       "      <td>NaN</td>\n",
       "      <td>NaN</td>\n",
       "      <td>NaN</td>\n",
       "    </tr>\n",
       "    <tr>\n",
       "      <th>1</th>\n",
       "      <td>635</td>\n",
       "      <td>2</td>\n",
       "      <td>2018-01-01</td>\n",
       "      <td>2018-01-04 21:28:51.897839</td>\n",
       "      <td>Home</td>\n",
       "      <td>General Medicine</td>\n",
       "      <td>Flu</td>\n",
       "      <td>3.825969</td>\n",
       "      <td>0.604562</td>\n",
       "      <td>1.0</td>\n",
       "      <td>2.0</td>\n",
       "      <td>1.0</td>\n",
       "    </tr>\n",
       "    <tr>\n",
       "      <th>2</th>\n",
       "      <td>606</td>\n",
       "      <td>3</td>\n",
       "      <td>2018-01-01</td>\n",
       "      <td>2018-01-04 22:28:23.672392</td>\n",
       "      <td>Home</td>\n",
       "      <td>General Medicine</td>\n",
       "      <td>Flu</td>\n",
       "      <td>3.382493</td>\n",
       "      <td>0.266137</td>\n",
       "      <td>1.0</td>\n",
       "      <td>3.0</td>\n",
       "      <td>1.0</td>\n",
       "    </tr>\n",
       "    <tr>\n",
       "      <th>718</th>\n",
       "      <td>605</td>\n",
       "      <td>741</td>\n",
       "      <td>2018-02-22</td>\n",
       "      <td>2018-03-10 06:06:12.068108</td>\n",
       "      <td>Home</td>\n",
       "      <td>General Medicine</td>\n",
       "      <td>Flu</td>\n",
       "      <td>3.123064</td>\n",
       "      <td>0.655870</td>\n",
       "      <td>NaN</td>\n",
       "      <td>NaN</td>\n",
       "      <td>NaN</td>\n",
       "    </tr>\n",
       "    <tr>\n",
       "      <th>719</th>\n",
       "      <td>710</td>\n",
       "      <td>742</td>\n",
       "      <td>2018-02-22</td>\n",
       "      <td>2018-03-10 20:38:30.568130</td>\n",
       "      <td>Transfer</td>\n",
       "      <td>General Medicine</td>\n",
       "      <td>Diabetes</td>\n",
       "      <td>7.195441</td>\n",
       "      <td>0.286439</td>\n",
       "      <td>NaN</td>\n",
       "      <td>NaN</td>\n",
       "      <td>NaN</td>\n",
       "    </tr>\n",
       "  </tbody>\n",
       "</table>\n",
       "</div>"
      ],
      "text/plain": [
       "     AdmissionID  PatientID AdmissionDate              DischargeDate  \\\n",
       "0            389          1    2018-01-01 2018-01-04 19:59:31.390889   \n",
       "1            635          2    2018-01-01 2018-01-04 21:28:51.897839   \n",
       "2            606          3    2018-01-01 2018-01-04 22:28:23.672392   \n",
       "718          605        741    2018-02-22 2018-03-10 06:06:12.068108   \n",
       "719          710        742    2018-02-22 2018-03-10 20:38:30.568130   \n",
       "\n",
       "    DischargeDisposition           Service PrimaryDiagnosis  ExpectedLOS  \\\n",
       "0                   Home       Hospitalist   Kidney Failure     6.717771   \n",
       "1                   Home  General Medicine              Flu     3.825969   \n",
       "2                   Home  General Medicine              Flu     3.382493   \n",
       "718                 Home  General Medicine              Flu     3.123064   \n",
       "719             Transfer  General Medicine         Diabetes     7.195441   \n",
       "\n",
       "     ExpectedMortality  ReadmissionFlag  DaysToReadmission  \\\n",
       "0             0.010046              NaN                NaN   \n",
       "1             0.604562              1.0                2.0   \n",
       "2             0.266137              1.0                3.0   \n",
       "718           0.655870              NaN                NaN   \n",
       "719           0.286439              NaN                NaN   \n",
       "\n",
       "     EDVisitAfterDischargeFlag  \n",
       "0                          NaN  \n",
       "1                          1.0  \n",
       "2                          1.0  \n",
       "718                        NaN  \n",
       "719                        NaN  "
      ]
     },
     "metadata": {},
     "output_type": "display_data"
    }
   ],
   "source": [
    "ReAdmissionRegistry_df\n",
    "def display_head_tail(data, head_rows, tail_rows):\n",
    "    display(\"Data Head & Tail :\")\n",
    "    display(data.head(head_rows).append(data.tail(tail_rows)))\n",
    "#     return True\n",
    "\n",
    "# Displays Data Head (Top Rows) and Tail (Bottom Rows) of the Dataframe (Table)\n",
    "# Pass Dataframe as \"patient_profile\", No. of Rows in Head = 3 and No. of Rows in Tail = 2 :\n",
    "\n",
    "display_head_tail(ReAdmissionRegistry_df, head_rows=3, tail_rows=2)"
   ]
  },
  {
   "cell_type": "markdown",
   "id": "acoustic-buyer",
   "metadata": {},
   "source": [
    "### Q16. Bubble Chart "
   ]
  },
  {
   "cell_type": "code",
   "execution_count": 150,
   "id": "residential-verse",
   "metadata": {},
   "outputs": [
    {
     "data": {
      "image/png": "[encoded data removed]",
      "text/plain": [
       "<Figure size 1600x800 with 1 Axes>"
      ]
     },
     "metadata": {
      "needs_background": "light"
     },
     "output_type": "display_data"
    }
   ],
   "source": [
    "data_df=ReAdmissionRegistry_df\n",
    "plt.figure(figsize=(8,4), dpi=200)\n",
    " \n",
    "# set styling on a single chart\n",
    "with sns.axes_style('darkgrid'):\n",
    "  ax = sns.scatterplot(data=data_df,\n",
    "                       x='ExpectedLOS', \n",
    "                       y='ExpectedMortality',\n",
    "                       hue='ExpectedMortality',\n",
    "                       size='ExpectedMortality')\n",
    " \n",
    "  ax.set(ylim=(0, 1.2),\n",
    "        xlim=(0, 18),\n",
    "        ylabel='ExpectedLOS',\n",
    "        xlabel='ExpectedMortality')\n"
   ]
  },
  {
   "cell_type": "markdown",
   "id": "furnished-official",
   "metadata": {},
   "source": [
    "### Q17.Plotting Linear Regressions with Seaborn"
   ]
  },
  {
   "cell_type": "code",
   "execution_count": 149,
   "id": "coral-thought",
   "metadata": {},
   "outputs": [
    {
     "data": {
      "image/png": "[encoded data removed]",
      "text/plain": [
       "<Figure size 3200x800 with 1 Axes>"
      ]
     },
     "metadata": {
      "needs_background": "light"
     },
     "output_type": "display_data"
    }
   ],
   "source": [
    "plt.figure(figsize=(16,4), dpi=200)\n",
    "with sns.axes_style(\"whitegrid\"):\n",
    "  sns.regplot(data=ReAdmissionRegistry_df, \n",
    "            x='ExpectedMortality', \n",
    "            y='ExpectedLOS',\n",
    "            scatter_kws = {'alpha': 0.4},\n",
    "            line_kws = {'color': 'black'})"
   ]
  },
  {
   "cell_type": "markdown",
   "id": "gross-psychiatry",
   "metadata": {},
   "source": [
    "### Q18.Number formats in the Output"
   ]
  },
  {
   "cell_type": "code",
   "execution_count": 152,
   "id": "renewable-insert",
   "metadata": {},
   "outputs": [
    {
     "data": {
      "text/html": [
       "<div>\n",
       "<style scoped>\n",
       "    .dataframe tbody tr th:only-of-type {\n",
       "        vertical-align: middle;\n",
       "    }\n",
       "\n",
       "    .dataframe tbody tr th {\n",
       "        vertical-align: top;\n",
       "    }\n",
       "\n",
       "    .dataframe thead th {\n",
       "        text-align: right;\n",
       "    }\n",
       "</style>\n",
       "<table border=\"1\" class=\"dataframe\">\n",
       "  <thead>\n",
       "    <tr style=\"text-align: right;\">\n",
       "      <th></th>\n",
       "      <th>AdmissionID</th>\n",
       "      <th>PatientID</th>\n",
       "      <th>ExpectedLOS</th>\n",
       "      <th>ExpectedMortality</th>\n",
       "      <th>ReadmissionFlag</th>\n",
       "      <th>DaysToReadmission</th>\n",
       "      <th>EDVisitAfterDischargeFlag</th>\n",
       "    </tr>\n",
       "  </thead>\n",
       "  <tbody>\n",
       "    <tr>\n",
       "      <th>count</th>\n",
       "      <td>720.000000</td>\n",
       "      <td>720.000000</td>\n",
       "      <td>720.000000</td>\n",
       "      <td>720.000000</td>\n",
       "      <td>194.0</td>\n",
       "      <td>194.000000</td>\n",
       "      <td>341.0</td>\n",
       "    </tr>\n",
       "    <tr>\n",
       "      <th>mean</th>\n",
       "      <td>360.500000</td>\n",
       "      <td>366.158333</td>\n",
       "      <td>8.824589</td>\n",
       "      <td>0.338063</td>\n",
       "      <td>1.0</td>\n",
       "      <td>5.360825</td>\n",
       "      <td>1.0</td>\n",
       "    </tr>\n",
       "    <tr>\n",
       "      <th>std</th>\n",
       "      <td>207.990384</td>\n",
       "      <td>218.223501</td>\n",
       "      <td>4.034421</td>\n",
       "      <td>0.238868</td>\n",
       "      <td>0.0</td>\n",
       "      <td>3.866116</td>\n",
       "      <td>0.0</td>\n",
       "    </tr>\n",
       "    <tr>\n",
       "      <th>min</th>\n",
       "      <td>1.000000</td>\n",
       "      <td>1.000000</td>\n",
       "      <td>2.012974</td>\n",
       "      <td>0.000006</td>\n",
       "      <td>1.0</td>\n",
       "      <td>1.000000</td>\n",
       "      <td>1.0</td>\n",
       "    </tr>\n",
       "    <tr>\n",
       "      <th>25%</th>\n",
       "      <td>180.750000</td>\n",
       "      <td>175.750000</td>\n",
       "      <td>5.138501</td>\n",
       "      <td>0.139771</td>\n",
       "      <td>1.0</td>\n",
       "      <td>3.000000</td>\n",
       "      <td>1.0</td>\n",
       "    </tr>\n",
       "    <tr>\n",
       "      <th>50%</th>\n",
       "      <td>360.500000</td>\n",
       "      <td>353.500000</td>\n",
       "      <td>8.633825</td>\n",
       "      <td>0.297242</td>\n",
       "      <td>1.0</td>\n",
       "      <td>5.000000</td>\n",
       "      <td>1.0</td>\n",
       "    </tr>\n",
       "    <tr>\n",
       "      <th>75%</th>\n",
       "      <td>540.250000</td>\n",
       "      <td>557.250000</td>\n",
       "      <td>12.107623</td>\n",
       "      <td>0.496387</td>\n",
       "      <td>1.0</td>\n",
       "      <td>5.000000</td>\n",
       "      <td>1.0</td>\n",
       "    </tr>\n",
       "    <tr>\n",
       "      <th>max</th>\n",
       "      <td>720.000000</td>\n",
       "      <td>742.000000</td>\n",
       "      <td>16.998213</td>\n",
       "      <td>0.989945</td>\n",
       "      <td>1.0</td>\n",
       "      <td>19.000000</td>\n",
       "      <td>1.0</td>\n",
       "    </tr>\n",
       "  </tbody>\n",
       "</table>\n",
       "</div>"
      ],
      "text/plain": [
       "       AdmissionID   PatientID  ExpectedLOS  ExpectedMortality  \\\n",
       "count   720.000000  720.000000   720.000000         720.000000   \n",
       "mean    360.500000  366.158333     8.824589           0.338063   \n",
       "std     207.990384  218.223501     4.034421           0.238868   \n",
       "min       1.000000    1.000000     2.012974           0.000006   \n",
       "25%     180.750000  175.750000     5.138501           0.139771   \n",
       "50%     360.500000  353.500000     8.633825           0.297242   \n",
       "75%     540.250000  557.250000    12.107623           0.496387   \n",
       "max     720.000000  742.000000    16.998213           0.989945   \n",
       "\n",
       "       ReadmissionFlag  DaysToReadmission  EDVisitAfterDischargeFlag  \n",
       "count            194.0         194.000000                      341.0  \n",
       "mean               1.0           5.360825                        1.0  \n",
       "std                0.0           3.866116                        0.0  \n",
       "min                1.0           1.000000                        1.0  \n",
       "25%                1.0           3.000000                        1.0  \n",
       "50%                1.0           5.000000                        1.0  \n",
       "75%                1.0           5.000000                        1.0  \n",
       "max                1.0          19.000000                        1.0  "
      ]
     },
     "execution_count": 152,
     "metadata": {},
     "output_type": "execute_result"
    }
   ],
   "source": [
    "ReAdmissionRegistry_df.describe()"
   ]
  },
  {
   "cell_type": "code",
   "execution_count": 153,
   "id": "considered-second",
   "metadata": {},
   "outputs": [],
   "source": [
    "pd.options.display.float_format = '{:,.2f}'.format "
   ]
  },
  {
   "cell_type": "code",
   "execution_count": 154,
   "id": "physical-security",
   "metadata": {},
   "outputs": [
    {
     "data": {
      "text/html": [
       "<div>\n",
       "<style scoped>\n",
       "    .dataframe tbody tr th:only-of-type {\n",
       "        vertical-align: middle;\n",
       "    }\n",
       "\n",
       "    .dataframe tbody tr th {\n",
       "        vertical-align: top;\n",
       "    }\n",
       "\n",
       "    .dataframe thead th {\n",
       "        text-align: right;\n",
       "    }\n",
       "</style>\n",
       "<table border=\"1\" class=\"dataframe\">\n",
       "  <thead>\n",
       "    <tr style=\"text-align: right;\">\n",
       "      <th></th>\n",
       "      <th>AdmissionID</th>\n",
       "      <th>PatientID</th>\n",
       "      <th>ExpectedLOS</th>\n",
       "      <th>ExpectedMortality</th>\n",
       "      <th>ReadmissionFlag</th>\n",
       "      <th>DaysToReadmission</th>\n",
       "      <th>EDVisitAfterDischargeFlag</th>\n",
       "    </tr>\n",
       "  </thead>\n",
       "  <tbody>\n",
       "    <tr>\n",
       "      <th>count</th>\n",
       "      <td>720.00</td>\n",
       "      <td>720.00</td>\n",
       "      <td>720.00</td>\n",
       "      <td>720.00</td>\n",
       "      <td>194.00</td>\n",
       "      <td>194.00</td>\n",
       "      <td>341.00</td>\n",
       "    </tr>\n",
       "    <tr>\n",
       "      <th>mean</th>\n",
       "      <td>360.50</td>\n",
       "      <td>366.16</td>\n",
       "      <td>8.82</td>\n",
       "      <td>0.34</td>\n",
       "      <td>1.00</td>\n",
       "      <td>5.36</td>\n",
       "      <td>1.00</td>\n",
       "    </tr>\n",
       "    <tr>\n",
       "      <th>std</th>\n",
       "      <td>207.99</td>\n",
       "      <td>218.22</td>\n",
       "      <td>4.03</td>\n",
       "      <td>0.24</td>\n",
       "      <td>0.00</td>\n",
       "      <td>3.87</td>\n",
       "      <td>0.00</td>\n",
       "    </tr>\n",
       "    <tr>\n",
       "      <th>min</th>\n",
       "      <td>1.00</td>\n",
       "      <td>1.00</td>\n",
       "      <td>2.01</td>\n",
       "      <td>0.00</td>\n",
       "      <td>1.00</td>\n",
       "      <td>1.00</td>\n",
       "      <td>1.00</td>\n",
       "    </tr>\n",
       "    <tr>\n",
       "      <th>25%</th>\n",
       "      <td>180.75</td>\n",
       "      <td>175.75</td>\n",
       "      <td>5.14</td>\n",
       "      <td>0.14</td>\n",
       "      <td>1.00</td>\n",
       "      <td>3.00</td>\n",
       "      <td>1.00</td>\n",
       "    </tr>\n",
       "    <tr>\n",
       "      <th>50%</th>\n",
       "      <td>360.50</td>\n",
       "      <td>353.50</td>\n",
       "      <td>8.63</td>\n",
       "      <td>0.30</td>\n",
       "      <td>1.00</td>\n",
       "      <td>5.00</td>\n",
       "      <td>1.00</td>\n",
       "    </tr>\n",
       "    <tr>\n",
       "      <th>75%</th>\n",
       "      <td>540.25</td>\n",
       "      <td>557.25</td>\n",
       "      <td>12.11</td>\n",
       "      <td>0.50</td>\n",
       "      <td>1.00</td>\n",
       "      <td>5.00</td>\n",
       "      <td>1.00</td>\n",
       "    </tr>\n",
       "    <tr>\n",
       "      <th>max</th>\n",
       "      <td>720.00</td>\n",
       "      <td>742.00</td>\n",
       "      <td>17.00</td>\n",
       "      <td>0.99</td>\n",
       "      <td>1.00</td>\n",
       "      <td>19.00</td>\n",
       "      <td>1.00</td>\n",
       "    </tr>\n",
       "  </tbody>\n",
       "</table>\n",
       "</div>"
      ],
      "text/plain": [
       "       AdmissionID  PatientID  ExpectedLOS  ExpectedMortality  \\\n",
       "count       720.00     720.00       720.00             720.00   \n",
       "mean        360.50     366.16         8.82               0.34   \n",
       "std         207.99     218.22         4.03               0.24   \n",
       "min           1.00       1.00         2.01               0.00   \n",
       "25%         180.75     175.75         5.14               0.14   \n",
       "50%         360.50     353.50         8.63               0.30   \n",
       "75%         540.25     557.25        12.11               0.50   \n",
       "max         720.00     742.00        17.00               0.99   \n",
       "\n",
       "       ReadmissionFlag  DaysToReadmission  EDVisitAfterDischargeFlag  \n",
       "count           194.00             194.00                     341.00  \n",
       "mean              1.00               5.36                       1.00  \n",
       "std               0.00               3.87                       0.00  \n",
       "min               1.00               1.00                       1.00  \n",
       "25%               1.00               3.00                       1.00  \n",
       "50%               1.00               5.00                       1.00  \n",
       "75%               1.00               5.00                       1.00  \n",
       "max               1.00              19.00                       1.00  "
      ]
     },
     "execution_count": 154,
     "metadata": {},
     "output_type": "execute_result"
    }
   ],
   "source": [
    "ReAdmissionRegistry_df.describe()"
   ]
  },
  {
   "cell_type": "code",
   "execution_count": null,
   "id": "creative-bulgarian",
   "metadata": {},
   "outputs": [],
   "source": []
  },
  {
   "cell_type": "code",
   "execution_count": null,
   "id": "minute-colorado",
   "metadata": {},
   "outputs": [],
   "source": []
  }
 ],
 "metadata": {
  "kernelspec": {
   "display_name": "Python 3",
   "language": "python",
   "name": "python3"
  },
  "language_info": {
   "codemirror_mode": {
    "name": "ipython",
    "version": 3
   },
   "file_extension": ".py",
   "mimetype": "text/x-python",
   "name": "python",
   "nbconvert_exporter": "python",
   "pygments_lexer": "ipython3",
   "version": "3.7.6"
  }
 },
 "nbformat": 4,
 "nbformat_minor": 5
}
